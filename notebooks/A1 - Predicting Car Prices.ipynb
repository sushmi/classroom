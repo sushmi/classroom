{
 "cells": [
  {
   "cell_type": "markdown",
   "id": "f8972127",
   "metadata": {},
   "source": [
    "# A1 - Predicting Car Prices\n",
    "\n",
    "### Project plan:<br>\n",
    "1. Load data <br>\n",
    "    a. Load data from CSV file and inspect file format and content in high level <br>\n",
    "    b. Cleanup and encoding<br>\n",
    "    <br> \n",
    "2. Exploratory Data Analysis<br>\n",
    "    a. Check class imbalance (Skipped as it's Regression problem)<br> \n",
    "    b. Distribution plot<br>\n",
    "    <br>\n",
    "3. Feature Engineering <br>\n",
    "    a. Dimensionality reduction<br>\n",
    "    b. feature splitting<br>\n",
    "    c. creating features<br>\n",
    "    <br>\n",
    "4. Preprocessing <br>\n",
    "    a. Null values<br>\n",
    "    b. Outliers<br>\n",
    "    c. Fix class imbalance<br>\n",
    "    d. Typos/Entry errors/Duplicates/IDs<br>\n",
    "    <br>\n",
    "5. Feature selection<br>\n",
    "    a. select x features<br>\n",
    "    b. select y target<br>\n",
    "    <br>\n",
    "6. Model selection<br>\n",
    "    a. Regresssion<br>\n",
    "    <br>\n",
    "7. Testing <br>\n",
    "    a. Regression (r2, MSE)<br>\n",
    "    <br>\n",
    "8. Analysis<br>\n",
    "    a. Analyse model - feature importance<br>\n",
    "    <br>\n",
    "9. Inference<br>\n",
    "    a. Apply your best model on soem unseen data and see whether it makes sense<br>\n",
    "    <br>\n",
    "10. Deployment<br>\n",
    "    a. Docker / Plotly <br>\n",
    "    <br>\n"
   ]
  },
  {
   "cell_type": "markdown",
   "id": "03c12a57",
   "metadata": {},
   "source": [
    "## 0. Setup / Import Libs"
   ]
  },
  {
   "cell_type": "code",
   "execution_count": 1,
   "id": "1e8c48ca",
   "metadata": {},
   "outputs": [],
   "source": [
    "# core data handling libraries\n",
    "## dataframes for structured data\n",
    "import pandas as pd\n",
    "## numerical computing, arrays, linear algebra\n",
    "import numpy as np\n",
    "\n",
    "## Statistical data visualization (built on Matplotlib)\n",
    "import seaborn as sns\n",
    "import matplotlib.pyplot as plt\n",
    "\n",
    "# Ignoring warnings\n",
    "import warnings\n",
    "warnings.filterwarnings('ignore')\n",
    "\n",
    "# Data file path\n",
    "data_path = '../data/Cars.csv'\n",
    "\n"
   ]
  },
  {
   "cell_type": "markdown",
   "id": "b4999b99",
   "metadata": {},
   "source": [
    "## 1. Load Data"
   ]
  },
  {
   "cell_type": "code",
   "execution_count": 2,
   "id": "cceb808b",
   "metadata": {},
   "outputs": [
    {
     "data": {
      "text/plain": [
       "8128"
      ]
     },
     "execution_count": 2,
     "metadata": {},
     "output_type": "execute_result"
    }
   ],
   "source": [
    "df = pd.read_csv(data_path)\n",
    "len(df)"
   ]
  },
  {
   "cell_type": "code",
   "execution_count": 3,
   "id": "84aad63f",
   "metadata": {},
   "outputs": [
    {
     "data": {
      "text/plain": [
       "pandas.core.frame.DataFrame"
      ]
     },
     "execution_count": 3,
     "metadata": {},
     "output_type": "execute_result"
    }
   ],
   "source": [
    "type(df)"
   ]
  },
  {
   "cell_type": "code",
   "execution_count": 4,
   "id": "3f1b99e5",
   "metadata": {},
   "outputs": [
    {
     "data": {
      "text/plain": [
       "(8128, 13)"
      ]
     },
     "execution_count": 4,
     "metadata": {},
     "output_type": "execute_result"
    }
   ],
   "source": [
    "df.shape"
   ]
  },
  {
   "cell_type": "code",
   "execution_count": 5,
   "id": "e27b88a0",
   "metadata": {},
   "outputs": [
    {
     "data": {
      "text/plain": [
       "Index(['name', 'year', 'selling_price', 'km_driven', 'fuel', 'seller_type',\n",
       "       'transmission', 'owner', 'mileage', 'engine', 'max_power', 'torque',\n",
       "       'seats'],\n",
       "      dtype='object')"
      ]
     },
     "execution_count": 5,
     "metadata": {},
     "output_type": "execute_result"
    }
   ],
   "source": [
    "df.columns"
   ]
  },
  {
   "cell_type": "code",
   "execution_count": 6,
   "id": "119344dd",
   "metadata": {},
   "outputs": [
    {
     "data": {
      "application/vnd.microsoft.datawrangler.viewer.v0+json": {
       "columns": [
        {
         "name": "index",
         "rawType": "int64",
         "type": "integer"
        },
        {
         "name": "name",
         "rawType": "object",
         "type": "string"
        },
        {
         "name": "year",
         "rawType": "int64",
         "type": "integer"
        },
        {
         "name": "selling_price",
         "rawType": "int64",
         "type": "integer"
        },
        {
         "name": "km_driven",
         "rawType": "int64",
         "type": "integer"
        },
        {
         "name": "fuel",
         "rawType": "object",
         "type": "string"
        },
        {
         "name": "seller_type",
         "rawType": "object",
         "type": "string"
        },
        {
         "name": "transmission",
         "rawType": "object",
         "type": "string"
        },
        {
         "name": "owner",
         "rawType": "object",
         "type": "string"
        },
        {
         "name": "mileage",
         "rawType": "object",
         "type": "string"
        },
        {
         "name": "engine",
         "rawType": "object",
         "type": "string"
        },
        {
         "name": "max_power",
         "rawType": "object",
         "type": "string"
        },
        {
         "name": "torque",
         "rawType": "object",
         "type": "string"
        },
        {
         "name": "seats",
         "rawType": "float64",
         "type": "float"
        }
       ],
       "ref": "c5834f7c-fe8b-4110-af3e-bb4006b69824",
       "rows": [
        [
         "0",
         "Maruti Swift Dzire VDI",
         "2014",
         "450000",
         "145500",
         "Diesel",
         "Individual",
         "Manual",
         "First Owner",
         "23.4 kmpl",
         "1248 CC",
         "74 bhp",
         "190Nm@ 2000rpm",
         "5.0"
        ],
        [
         "1",
         "Skoda Rapid 1.5 TDI Ambition",
         "2014",
         "370000",
         "120000",
         "Diesel",
         "Individual",
         "Manual",
         "Second Owner",
         "21.14 kmpl",
         "1498 CC",
         "103.52 bhp",
         "250Nm@ 1500-2500rpm",
         "5.0"
        ],
        [
         "2",
         "Honda City 2017-2020 EXi",
         "2006",
         "158000",
         "140000",
         "Petrol",
         "Individual",
         "Manual",
         "Third Owner",
         "17.7 kmpl",
         "1497 CC",
         "78 bhp",
         "12.7@ 2,700(kgm@ rpm)",
         "5.0"
        ],
        [
         "3",
         "Hyundai i20 Sportz Diesel",
         "2010",
         "225000",
         "127000",
         "Diesel",
         "Individual",
         "Manual",
         "First Owner",
         "23.0 kmpl",
         "1396 CC",
         "90 bhp",
         "22.4 kgm at 1750-2750rpm",
         "5.0"
        ],
        [
         "4",
         "Maruti Swift VXI BSIII",
         "2007",
         "130000",
         "120000",
         "Petrol",
         "Individual",
         "Manual",
         "First Owner",
         "16.1 kmpl",
         "1298 CC",
         "88.2 bhp",
         "11.5@ 4,500(kgm@ rpm)",
         "5.0"
        ]
       ],
       "shape": {
        "columns": 13,
        "rows": 5
       }
      },
      "text/html": [
       "<div>\n",
       "<style scoped>\n",
       "    .dataframe tbody tr th:only-of-type {\n",
       "        vertical-align: middle;\n",
       "    }\n",
       "\n",
       "    .dataframe tbody tr th {\n",
       "        vertical-align: top;\n",
       "    }\n",
       "\n",
       "    .dataframe thead th {\n",
       "        text-align: right;\n",
       "    }\n",
       "</style>\n",
       "<table border=\"1\" class=\"dataframe\">\n",
       "  <thead>\n",
       "    <tr style=\"text-align: right;\">\n",
       "      <th></th>\n",
       "      <th>name</th>\n",
       "      <th>year</th>\n",
       "      <th>selling_price</th>\n",
       "      <th>km_driven</th>\n",
       "      <th>fuel</th>\n",
       "      <th>seller_type</th>\n",
       "      <th>transmission</th>\n",
       "      <th>owner</th>\n",
       "      <th>mileage</th>\n",
       "      <th>engine</th>\n",
       "      <th>max_power</th>\n",
       "      <th>torque</th>\n",
       "      <th>seats</th>\n",
       "    </tr>\n",
       "  </thead>\n",
       "  <tbody>\n",
       "    <tr>\n",
       "      <th>0</th>\n",
       "      <td>Maruti Swift Dzire VDI</td>\n",
       "      <td>2014</td>\n",
       "      <td>450000</td>\n",
       "      <td>145500</td>\n",
       "      <td>Diesel</td>\n",
       "      <td>Individual</td>\n",
       "      <td>Manual</td>\n",
       "      <td>First Owner</td>\n",
       "      <td>23.4 kmpl</td>\n",
       "      <td>1248 CC</td>\n",
       "      <td>74 bhp</td>\n",
       "      <td>190Nm@ 2000rpm</td>\n",
       "      <td>5.0</td>\n",
       "    </tr>\n",
       "    <tr>\n",
       "      <th>1</th>\n",
       "      <td>Skoda Rapid 1.5 TDI Ambition</td>\n",
       "      <td>2014</td>\n",
       "      <td>370000</td>\n",
       "      <td>120000</td>\n",
       "      <td>Diesel</td>\n",
       "      <td>Individual</td>\n",
       "      <td>Manual</td>\n",
       "      <td>Second Owner</td>\n",
       "      <td>21.14 kmpl</td>\n",
       "      <td>1498 CC</td>\n",
       "      <td>103.52 bhp</td>\n",
       "      <td>250Nm@ 1500-2500rpm</td>\n",
       "      <td>5.0</td>\n",
       "    </tr>\n",
       "    <tr>\n",
       "      <th>2</th>\n",
       "      <td>Honda City 2017-2020 EXi</td>\n",
       "      <td>2006</td>\n",
       "      <td>158000</td>\n",
       "      <td>140000</td>\n",
       "      <td>Petrol</td>\n",
       "      <td>Individual</td>\n",
       "      <td>Manual</td>\n",
       "      <td>Third Owner</td>\n",
       "      <td>17.7 kmpl</td>\n",
       "      <td>1497 CC</td>\n",
       "      <td>78 bhp</td>\n",
       "      <td>12.7@ 2,700(kgm@ rpm)</td>\n",
       "      <td>5.0</td>\n",
       "    </tr>\n",
       "    <tr>\n",
       "      <th>3</th>\n",
       "      <td>Hyundai i20 Sportz Diesel</td>\n",
       "      <td>2010</td>\n",
       "      <td>225000</td>\n",
       "      <td>127000</td>\n",
       "      <td>Diesel</td>\n",
       "      <td>Individual</td>\n",
       "      <td>Manual</td>\n",
       "      <td>First Owner</td>\n",
       "      <td>23.0 kmpl</td>\n",
       "      <td>1396 CC</td>\n",
       "      <td>90 bhp</td>\n",
       "      <td>22.4 kgm at 1750-2750rpm</td>\n",
       "      <td>5.0</td>\n",
       "    </tr>\n",
       "    <tr>\n",
       "      <th>4</th>\n",
       "      <td>Maruti Swift VXI BSIII</td>\n",
       "      <td>2007</td>\n",
       "      <td>130000</td>\n",
       "      <td>120000</td>\n",
       "      <td>Petrol</td>\n",
       "      <td>Individual</td>\n",
       "      <td>Manual</td>\n",
       "      <td>First Owner</td>\n",
       "      <td>16.1 kmpl</td>\n",
       "      <td>1298 CC</td>\n",
       "      <td>88.2 bhp</td>\n",
       "      <td>11.5@ 4,500(kgm@ rpm)</td>\n",
       "      <td>5.0</td>\n",
       "    </tr>\n",
       "  </tbody>\n",
       "</table>\n",
       "</div>"
      ],
      "text/plain": [
       "                           name  year  selling_price  km_driven    fuel  \\\n",
       "0        Maruti Swift Dzire VDI  2014         450000     145500  Diesel   \n",
       "1  Skoda Rapid 1.5 TDI Ambition  2014         370000     120000  Diesel   \n",
       "2      Honda City 2017-2020 EXi  2006         158000     140000  Petrol   \n",
       "3     Hyundai i20 Sportz Diesel  2010         225000     127000  Diesel   \n",
       "4        Maruti Swift VXI BSIII  2007         130000     120000  Petrol   \n",
       "\n",
       "  seller_type transmission         owner     mileage   engine   max_power  \\\n",
       "0  Individual       Manual   First Owner   23.4 kmpl  1248 CC      74 bhp   \n",
       "1  Individual       Manual  Second Owner  21.14 kmpl  1498 CC  103.52 bhp   \n",
       "2  Individual       Manual   Third Owner   17.7 kmpl  1497 CC      78 bhp   \n",
       "3  Individual       Manual   First Owner   23.0 kmpl  1396 CC      90 bhp   \n",
       "4  Individual       Manual   First Owner   16.1 kmpl  1298 CC    88.2 bhp   \n",
       "\n",
       "                     torque  seats  \n",
       "0            190Nm@ 2000rpm    5.0  \n",
       "1       250Nm@ 1500-2500rpm    5.0  \n",
       "2     12.7@ 2,700(kgm@ rpm)    5.0  \n",
       "3  22.4 kgm at 1750-2750rpm    5.0  \n",
       "4     11.5@ 4,500(kgm@ rpm)    5.0  "
      ]
     },
     "execution_count": 6,
     "metadata": {},
     "output_type": "execute_result"
    }
   ],
   "source": [
    "df.head()"
   ]
  },
  {
   "cell_type": "code",
   "execution_count": 7,
   "id": "302ac9db",
   "metadata": {},
   "outputs": [
    {
     "data": {
      "application/vnd.microsoft.datawrangler.viewer.v0+json": {
       "columns": [
        {
         "name": "index",
         "rawType": "object",
         "type": "string"
        },
        {
         "name": "0",
         "rawType": "object",
         "type": "unknown"
        }
       ],
       "ref": "811da099-86a7-4fd1-aef0-5ce01640b515",
       "rows": [
        [
         "name",
         "object"
        ],
        [
         "year",
         "int64"
        ],
        [
         "selling_price",
         "int64"
        ],
        [
         "km_driven",
         "int64"
        ],
        [
         "fuel",
         "object"
        ],
        [
         "seller_type",
         "object"
        ],
        [
         "transmission",
         "object"
        ],
        [
         "owner",
         "object"
        ],
        [
         "mileage",
         "object"
        ],
        [
         "engine",
         "object"
        ],
        [
         "max_power",
         "object"
        ],
        [
         "torque",
         "object"
        ],
        [
         "seats",
         "float64"
        ]
       ],
       "shape": {
        "columns": 1,
        "rows": 13
       }
      },
      "text/plain": [
       "name              object\n",
       "year               int64\n",
       "selling_price      int64\n",
       "km_driven          int64\n",
       "fuel              object\n",
       "seller_type       object\n",
       "transmission      object\n",
       "owner             object\n",
       "mileage           object\n",
       "engine            object\n",
       "max_power         object\n",
       "torque            object\n",
       "seats            float64\n",
       "dtype: object"
      ]
     },
     "execution_count": 7,
     "metadata": {},
     "output_type": "execute_result"
    }
   ],
   "source": [
    "df.dtypes"
   ]
  },
  {
   "cell_type": "markdown",
   "id": "b4da0a64",
   "metadata": {},
   "source": [
    "• For the feature owner, map First owner to 1, ..., Test Drive Car to 5"
   ]
  },
  {
   "cell_type": "code",
   "execution_count": 8,
   "id": "97857f23",
   "metadata": {},
   "outputs": [
    {
     "data": {
      "text/plain": [
       "array(['First Owner', 'Second Owner', 'Third Owner',\n",
       "       'Fourth & Above Owner', 'Test Drive Car'], dtype=object)"
      ]
     },
     "execution_count": 8,
     "metadata": {},
     "output_type": "execute_result"
    }
   ],
   "source": [
    "df['owner'].unique()"
   ]
  },
  {
   "cell_type": "code",
   "execution_count": 9,
   "id": "05819507",
   "metadata": {},
   "outputs": [],
   "source": [
    "owner_encoding = {\n",
    "    \"First Owner\": 1,\n",
    "    \"Second Owner\": 2,\n",
    "    \"Third Owner\": 3,\n",
    "    \"Fourth & Above Owner\": 4,\n",
    "    \"Test Drive Car\": 5\n",
    "}"
   ]
  },
  {
   "cell_type": "code",
   "execution_count": 10,
   "id": "14566660",
   "metadata": {},
   "outputs": [
    {
     "data": {
      "application/vnd.microsoft.datawrangler.viewer.v0+json": {
       "columns": [
        {
         "name": "index",
         "rawType": "int64",
         "type": "integer"
        },
        {
         "name": "owner",
         "rawType": "object",
         "type": "string"
        },
        {
         "name": "owner_num",
         "rawType": "int64",
         "type": "integer"
        }
       ],
       "ref": "d5f05f8e-507e-4a11-875f-efff82dc4db9",
       "rows": [
        [
         "0",
         "First Owner",
         "1"
        ],
        [
         "1",
         "Second Owner",
         "2"
        ],
        [
         "2",
         "Third Owner",
         "3"
        ],
        [
         "3",
         "First Owner",
         "1"
        ],
        [
         "4",
         "First Owner",
         "1"
        ],
        [
         "5",
         "First Owner",
         "1"
        ],
        [
         "6",
         "First Owner",
         "1"
        ],
        [
         "7",
         "Second Owner",
         "2"
        ],
        [
         "8",
         "First Owner",
         "1"
        ],
        [
         "9",
         "First Owner",
         "1"
        ]
       ],
       "shape": {
        "columns": 2,
        "rows": 10
       }
      },
      "text/html": [
       "<div>\n",
       "<style scoped>\n",
       "    .dataframe tbody tr th:only-of-type {\n",
       "        vertical-align: middle;\n",
       "    }\n",
       "\n",
       "    .dataframe tbody tr th {\n",
       "        vertical-align: top;\n",
       "    }\n",
       "\n",
       "    .dataframe thead th {\n",
       "        text-align: right;\n",
       "    }\n",
       "</style>\n",
       "<table border=\"1\" class=\"dataframe\">\n",
       "  <thead>\n",
       "    <tr style=\"text-align: right;\">\n",
       "      <th></th>\n",
       "      <th>owner</th>\n",
       "      <th>owner_num</th>\n",
       "    </tr>\n",
       "  </thead>\n",
       "  <tbody>\n",
       "    <tr>\n",
       "      <th>0</th>\n",
       "      <td>First Owner</td>\n",
       "      <td>1</td>\n",
       "    </tr>\n",
       "    <tr>\n",
       "      <th>1</th>\n",
       "      <td>Second Owner</td>\n",
       "      <td>2</td>\n",
       "    </tr>\n",
       "    <tr>\n",
       "      <th>2</th>\n",
       "      <td>Third Owner</td>\n",
       "      <td>3</td>\n",
       "    </tr>\n",
       "    <tr>\n",
       "      <th>3</th>\n",
       "      <td>First Owner</td>\n",
       "      <td>1</td>\n",
       "    </tr>\n",
       "    <tr>\n",
       "      <th>4</th>\n",
       "      <td>First Owner</td>\n",
       "      <td>1</td>\n",
       "    </tr>\n",
       "    <tr>\n",
       "      <th>5</th>\n",
       "      <td>First Owner</td>\n",
       "      <td>1</td>\n",
       "    </tr>\n",
       "    <tr>\n",
       "      <th>6</th>\n",
       "      <td>First Owner</td>\n",
       "      <td>1</td>\n",
       "    </tr>\n",
       "    <tr>\n",
       "      <th>7</th>\n",
       "      <td>Second Owner</td>\n",
       "      <td>2</td>\n",
       "    </tr>\n",
       "    <tr>\n",
       "      <th>8</th>\n",
       "      <td>First Owner</td>\n",
       "      <td>1</td>\n",
       "    </tr>\n",
       "    <tr>\n",
       "      <th>9</th>\n",
       "      <td>First Owner</td>\n",
       "      <td>1</td>\n",
       "    </tr>\n",
       "  </tbody>\n",
       "</table>\n",
       "</div>"
      ],
      "text/plain": [
       "          owner  owner_num\n",
       "0   First Owner          1\n",
       "1  Second Owner          2\n",
       "2   Third Owner          3\n",
       "3   First Owner          1\n",
       "4   First Owner          1\n",
       "5   First Owner          1\n",
       "6   First Owner          1\n",
       "7  Second Owner          2\n",
       "8   First Owner          1\n",
       "9   First Owner          1"
      ]
     },
     "execution_count": 10,
     "metadata": {},
     "output_type": "execute_result"
    }
   ],
   "source": [
    "df['owner_num'] = df['owner'].replace(owner_encoding)\n",
    "df[['owner', 'owner_num']].head(10)"
   ]
  },
  {
   "cell_type": "markdown",
   "id": "b983f18f",
   "metadata": {},
   "source": [
    "• For the feature fuel, remove all rows with CNG and LPG because CNG and LPG use a different mileage system i.e., km/kg which is different from kmfeaturepl for Diesel and Petrol"
   ]
  },
  {
   "cell_type": "code",
   "execution_count": 11,
   "id": "2b052f8e",
   "metadata": {},
   "outputs": [
    {
     "data": {
      "text/plain": [
       "array(['Diesel', 'Petrol', 'LPG', 'CNG'], dtype=object)"
      ]
     },
     "execution_count": 11,
     "metadata": {},
     "output_type": "execute_result"
    }
   ],
   "source": [
    "df['fuel'].unique()\n"
   ]
  },
  {
   "cell_type": "code",
   "execution_count": 12,
   "id": "20468f46",
   "metadata": {},
   "outputs": [
    {
     "data": {
      "text/plain": [
       "np.int64(95)"
      ]
     },
     "execution_count": 12,
     "metadata": {},
     "output_type": "execute_result"
    }
   ],
   "source": [
    "# count() = total rows\n",
    "# sum() = matching rows (CNG or LPG)\n",
    "(df['fuel'].isin(['CNG', 'LPG'])).sum()"
   ]
  },
  {
   "cell_type": "code",
   "execution_count": 13,
   "id": "abbd0259",
   "metadata": {},
   "outputs": [
    {
     "name": "stdout",
     "output_type": "stream",
     "text": [
      "8033\n"
     ]
    }
   ],
   "source": [
    "#Expected new count : 8128 - 95 = 8033 \n",
    "df = df[~df['fuel'].isin(['CNG', 'LPG'])]\n",
    "print(df['fuel'].count())"
   ]
  },
  {
   "cell_type": "code",
   "execution_count": 14,
   "id": "8a925e8b",
   "metadata": {},
   "outputs": [
    {
     "data": {
      "text/plain": [
       "array(['Diesel', 'Petrol'], dtype=object)"
      ]
     },
     "execution_count": 14,
     "metadata": {},
     "output_type": "execute_result"
    }
   ],
   "source": [
    "# unique values in fuel column after removing CNG and LPG\n",
    "df['fuel'].unique()"
   ]
  },
  {
   "cell_type": "markdown",
   "id": "37a5ff0f",
   "metadata": {},
   "source": [
    "• For the feature mileage, remove “kmpl” and convert the column to numerical type (e.g., float).\n",
    "Hint: use df.mileage.str.split"
   ]
  },
  {
   "cell_type": "code",
   "execution_count": 15,
   "id": "552f18a8",
   "metadata": {},
   "outputs": [
    {
     "data": {
      "application/vnd.microsoft.datawrangler.viewer.v0+json": {
       "columns": [
        {
         "name": "index",
         "rawType": "int64",
         "type": "integer"
        },
        {
         "name": "mileage",
         "rawType": "object",
         "type": "string"
        },
        {
         "name": "mileage_num",
         "rawType": "float64",
         "type": "float"
        }
       ],
       "ref": "e4bffa73-9609-45cf-a459-a134882da4b1",
       "rows": [
        [
         "0",
         "23.4 kmpl",
         "23.4"
        ],
        [
         "1",
         "21.14 kmpl",
         "21.14"
        ],
        [
         "2",
         "17.7 kmpl",
         "17.7"
        ],
        [
         "3",
         "23.0 kmpl",
         "23.0"
        ],
        [
         "4",
         "16.1 kmpl",
         "16.1"
        ]
       ],
       "shape": {
        "columns": 2,
        "rows": 5
       }
      },
      "text/html": [
       "<div>\n",
       "<style scoped>\n",
       "    .dataframe tbody tr th:only-of-type {\n",
       "        vertical-align: middle;\n",
       "    }\n",
       "\n",
       "    .dataframe tbody tr th {\n",
       "        vertical-align: top;\n",
       "    }\n",
       "\n",
       "    .dataframe thead th {\n",
       "        text-align: right;\n",
       "    }\n",
       "</style>\n",
       "<table border=\"1\" class=\"dataframe\">\n",
       "  <thead>\n",
       "    <tr style=\"text-align: right;\">\n",
       "      <th></th>\n",
       "      <th>mileage</th>\n",
       "      <th>mileage_num</th>\n",
       "    </tr>\n",
       "  </thead>\n",
       "  <tbody>\n",
       "    <tr>\n",
       "      <th>0</th>\n",
       "      <td>23.4 kmpl</td>\n",
       "      <td>23.40</td>\n",
       "    </tr>\n",
       "    <tr>\n",
       "      <th>1</th>\n",
       "      <td>21.14 kmpl</td>\n",
       "      <td>21.14</td>\n",
       "    </tr>\n",
       "    <tr>\n",
       "      <th>2</th>\n",
       "      <td>17.7 kmpl</td>\n",
       "      <td>17.70</td>\n",
       "    </tr>\n",
       "    <tr>\n",
       "      <th>3</th>\n",
       "      <td>23.0 kmpl</td>\n",
       "      <td>23.00</td>\n",
       "    </tr>\n",
       "    <tr>\n",
       "      <th>4</th>\n",
       "      <td>16.1 kmpl</td>\n",
       "      <td>16.10</td>\n",
       "    </tr>\n",
       "  </tbody>\n",
       "</table>\n",
       "</div>"
      ],
      "text/plain": [
       "      mileage  mileage_num\n",
       "0   23.4 kmpl        23.40\n",
       "1  21.14 kmpl        21.14\n",
       "2   17.7 kmpl        17.70\n",
       "3   23.0 kmpl        23.00\n",
       "4   16.1 kmpl        16.10"
      ]
     },
     "execution_count": 15,
     "metadata": {},
     "output_type": "execute_result"
    }
   ],
   "source": [
    "# Remove 'kmpl' and convert mileage to float\n",
    "df['mileage_num'] = df['mileage'].str.split().str[0].astype(float)\n",
    "df[['mileage', 'mileage_num']].head()"
   ]
  },
  {
   "cell_type": "markdown",
   "id": "f0283741",
   "metadata": {},
   "source": [
    "• For the feature engine, remove “CC” and convert the column to numerical type (e.g., float)"
   ]
  },
  {
   "cell_type": "code",
   "execution_count": 16,
   "id": "b5ce76ec",
   "metadata": {},
   "outputs": [
    {
     "data": {
      "application/vnd.microsoft.datawrangler.viewer.v0+json": {
       "columns": [
        {
         "name": "index",
         "rawType": "int64",
         "type": "integer"
        },
        {
         "name": "engine_num",
         "rawType": "float64",
         "type": "float"
        },
        {
         "name": "engine",
         "rawType": "object",
         "type": "string"
        }
       ],
       "ref": "3173c0d5-f609-4db1-9de1-8458f8dea88c",
       "rows": [
        [
         "0",
         "1248.0",
         "1248 CC"
        ],
        [
         "1",
         "1498.0",
         "1498 CC"
        ],
        [
         "2",
         "1497.0",
         "1497 CC"
        ],
        [
         "3",
         "1396.0",
         "1396 CC"
        ],
        [
         "4",
         "1298.0",
         "1298 CC"
        ]
       ],
       "shape": {
        "columns": 2,
        "rows": 5
       }
      },
      "text/html": [
       "<div>\n",
       "<style scoped>\n",
       "    .dataframe tbody tr th:only-of-type {\n",
       "        vertical-align: middle;\n",
       "    }\n",
       "\n",
       "    .dataframe tbody tr th {\n",
       "        vertical-align: top;\n",
       "    }\n",
       "\n",
       "    .dataframe thead th {\n",
       "        text-align: right;\n",
       "    }\n",
       "</style>\n",
       "<table border=\"1\" class=\"dataframe\">\n",
       "  <thead>\n",
       "    <tr style=\"text-align: right;\">\n",
       "      <th></th>\n",
       "      <th>engine_num</th>\n",
       "      <th>engine</th>\n",
       "    </tr>\n",
       "  </thead>\n",
       "  <tbody>\n",
       "    <tr>\n",
       "      <th>0</th>\n",
       "      <td>1248.0</td>\n",
       "      <td>1248 CC</td>\n",
       "    </tr>\n",
       "    <tr>\n",
       "      <th>1</th>\n",
       "      <td>1498.0</td>\n",
       "      <td>1498 CC</td>\n",
       "    </tr>\n",
       "    <tr>\n",
       "      <th>2</th>\n",
       "      <td>1497.0</td>\n",
       "      <td>1497 CC</td>\n",
       "    </tr>\n",
       "    <tr>\n",
       "      <th>3</th>\n",
       "      <td>1396.0</td>\n",
       "      <td>1396 CC</td>\n",
       "    </tr>\n",
       "    <tr>\n",
       "      <th>4</th>\n",
       "      <td>1298.0</td>\n",
       "      <td>1298 CC</td>\n",
       "    </tr>\n",
       "  </tbody>\n",
       "</table>\n",
       "</div>"
      ],
      "text/plain": [
       "   engine_num   engine\n",
       "0      1248.0  1248 CC\n",
       "1      1498.0  1498 CC\n",
       "2      1497.0  1497 CC\n",
       "3      1396.0  1396 CC\n",
       "4      1298.0  1298 CC"
      ]
     },
     "execution_count": 16,
     "metadata": {},
     "output_type": "execute_result"
    }
   ],
   "source": [
    "df['engine_num'] = df['engine'].str.split().str[0].astype(float)\n",
    "df[['engine_num', 'engine']].head()"
   ]
  },
  {
   "cell_type": "markdown",
   "id": "810f3676",
   "metadata": {},
   "source": [
    "• Do the same for max power"
   ]
  },
  {
   "cell_type": "code",
   "execution_count": 17,
   "id": "f554e47b",
   "metadata": {},
   "outputs": [
    {
     "data": {
      "application/vnd.microsoft.datawrangler.viewer.v0+json": {
       "columns": [
        {
         "name": "index",
         "rawType": "int64",
         "type": "integer"
        },
        {
         "name": "max_power_num",
         "rawType": "float64",
         "type": "float"
        },
        {
         "name": "max_power",
         "rawType": "object",
         "type": "string"
        }
       ],
       "ref": "0b17a499-2797-462a-bf31-bb1f3f316955",
       "rows": [
        [
         "0",
         "74.0",
         "74 bhp"
        ],
        [
         "1",
         "103.52",
         "103.52 bhp"
        ],
        [
         "2",
         "78.0",
         "78 bhp"
        ],
        [
         "3",
         "90.0",
         "90 bhp"
        ],
        [
         "4",
         "88.2",
         "88.2 bhp"
        ]
       ],
       "shape": {
        "columns": 2,
        "rows": 5
       }
      },
      "text/html": [
       "<div>\n",
       "<style scoped>\n",
       "    .dataframe tbody tr th:only-of-type {\n",
       "        vertical-align: middle;\n",
       "    }\n",
       "\n",
       "    .dataframe tbody tr th {\n",
       "        vertical-align: top;\n",
       "    }\n",
       "\n",
       "    .dataframe thead th {\n",
       "        text-align: right;\n",
       "    }\n",
       "</style>\n",
       "<table border=\"1\" class=\"dataframe\">\n",
       "  <thead>\n",
       "    <tr style=\"text-align: right;\">\n",
       "      <th></th>\n",
       "      <th>max_power_num</th>\n",
       "      <th>max_power</th>\n",
       "    </tr>\n",
       "  </thead>\n",
       "  <tbody>\n",
       "    <tr>\n",
       "      <th>0</th>\n",
       "      <td>74.00</td>\n",
       "      <td>74 bhp</td>\n",
       "    </tr>\n",
       "    <tr>\n",
       "      <th>1</th>\n",
       "      <td>103.52</td>\n",
       "      <td>103.52 bhp</td>\n",
       "    </tr>\n",
       "    <tr>\n",
       "      <th>2</th>\n",
       "      <td>78.00</td>\n",
       "      <td>78 bhp</td>\n",
       "    </tr>\n",
       "    <tr>\n",
       "      <th>3</th>\n",
       "      <td>90.00</td>\n",
       "      <td>90 bhp</td>\n",
       "    </tr>\n",
       "    <tr>\n",
       "      <th>4</th>\n",
       "      <td>88.20</td>\n",
       "      <td>88.2 bhp</td>\n",
       "    </tr>\n",
       "  </tbody>\n",
       "</table>\n",
       "</div>"
      ],
      "text/plain": [
       "   max_power_num   max_power\n",
       "0          74.00      74 bhp\n",
       "1         103.52  103.52 bhp\n",
       "2          78.00      78 bhp\n",
       "3          90.00      90 bhp\n",
       "4          88.20    88.2 bhp"
      ]
     },
     "execution_count": 17,
     "metadata": {},
     "output_type": "execute_result"
    }
   ],
   "source": [
    "df['max_power_num'] = df['max_power'].str.split().str[0].astype(float)\n",
    "df[['max_power_num', 'max_power']].head()"
   ]
  },
  {
   "cell_type": "markdown",
   "id": "147bbd16",
   "metadata": {},
   "source": [
    "• For the feature brand, take only the first word and remove the rest"
   ]
  },
  {
   "cell_type": "code",
   "execution_count": 18,
   "id": "406c85d9",
   "metadata": {},
   "outputs": [
    {
     "data": {
      "application/vnd.microsoft.datawrangler.viewer.v0+json": {
       "columns": [
        {
         "name": "index",
         "rawType": "int64",
         "type": "integer"
        },
        {
         "name": "name",
         "rawType": "object",
         "type": "string"
        },
        {
         "name": "brand",
         "rawType": "object",
         "type": "string"
        }
       ],
       "ref": "35fc34d3-d4ca-4883-8783-e22d6b97a7ff",
       "rows": [
        [
         "0",
         "Maruti Swift Dzire VDI",
         "Maruti"
        ],
        [
         "1",
         "Skoda Rapid 1.5 TDI Ambition",
         "Skoda"
        ],
        [
         "2",
         "Honda City 2017-2020 EXi",
         "Honda"
        ],
        [
         "3",
         "Hyundai i20 Sportz Diesel",
         "Hyundai"
        ],
        [
         "4",
         "Maruti Swift VXI BSIII",
         "Maruti"
        ]
       ],
       "shape": {
        "columns": 2,
        "rows": 5
       }
      },
      "text/html": [
       "<div>\n",
       "<style scoped>\n",
       "    .dataframe tbody tr th:only-of-type {\n",
       "        vertical-align: middle;\n",
       "    }\n",
       "\n",
       "    .dataframe tbody tr th {\n",
       "        vertical-align: top;\n",
       "    }\n",
       "\n",
       "    .dataframe thead th {\n",
       "        text-align: right;\n",
       "    }\n",
       "</style>\n",
       "<table border=\"1\" class=\"dataframe\">\n",
       "  <thead>\n",
       "    <tr style=\"text-align: right;\">\n",
       "      <th></th>\n",
       "      <th>name</th>\n",
       "      <th>brand</th>\n",
       "    </tr>\n",
       "  </thead>\n",
       "  <tbody>\n",
       "    <tr>\n",
       "      <th>0</th>\n",
       "      <td>Maruti Swift Dzire VDI</td>\n",
       "      <td>Maruti</td>\n",
       "    </tr>\n",
       "    <tr>\n",
       "      <th>1</th>\n",
       "      <td>Skoda Rapid 1.5 TDI Ambition</td>\n",
       "      <td>Skoda</td>\n",
       "    </tr>\n",
       "    <tr>\n",
       "      <th>2</th>\n",
       "      <td>Honda City 2017-2020 EXi</td>\n",
       "      <td>Honda</td>\n",
       "    </tr>\n",
       "    <tr>\n",
       "      <th>3</th>\n",
       "      <td>Hyundai i20 Sportz Diesel</td>\n",
       "      <td>Hyundai</td>\n",
       "    </tr>\n",
       "    <tr>\n",
       "      <th>4</th>\n",
       "      <td>Maruti Swift VXI BSIII</td>\n",
       "      <td>Maruti</td>\n",
       "    </tr>\n",
       "  </tbody>\n",
       "</table>\n",
       "</div>"
      ],
      "text/plain": [
       "                           name    brand\n",
       "0        Maruti Swift Dzire VDI   Maruti\n",
       "1  Skoda Rapid 1.5 TDI Ambition    Skoda\n",
       "2      Honda City 2017-2020 EXi    Honda\n",
       "3     Hyundai i20 Sportz Diesel  Hyundai\n",
       "4        Maruti Swift VXI BSIII   Maruti"
      ]
     },
     "execution_count": 18,
     "metadata": {},
     "output_type": "execute_result"
    }
   ],
   "source": [
    "df['brand'] = df['name'].str.split().str[0]\n",
    "df[['name', 'brand']].head()"
   ]
  },
  {
   "cell_type": "markdown",
   "id": "5a2283bd",
   "metadata": {},
   "source": [
    "• Drop the feature torque, simply because Chaky’s company does not understand well about it\n",
    "• You will found out that Test Drive Cars are ridiculously expensive. Since we do not want to\n",
    "involve this, we will simply delete all samples related to it"
   ]
  },
  {
   "cell_type": "code",
   "execution_count": 19,
   "id": "37a35881",
   "metadata": {},
   "outputs": [
    {
     "data": {
      "text/plain": [
       "np.int64(5)"
      ]
     },
     "execution_count": 19,
     "metadata": {},
     "output_type": "execute_result"
    }
   ],
   "source": [
    "# number of cars with 'Test Drive Car' as owner\n",
    "(df['owner_num'] == owner_encoding['Test Drive Car']).sum()"
   ]
  },
  {
   "cell_type": "code",
   "execution_count": 20,
   "id": "c1bcf633",
   "metadata": {},
   "outputs": [
    {
     "name": "stdout",
     "output_type": "stream",
     "text": [
      "8028\n"
     ]
    }
   ],
   "source": [
    "# expected new count : 8033 - 5 = 8028\n",
    "df = df[df['owner_num'] != owner_encoding['Test Drive Car']]\n",
    "print(df['owner_num'].count())"
   ]
  },
  {
   "cell_type": "code",
   "execution_count": 21,
   "id": "a659baed",
   "metadata": {},
   "outputs": [
    {
     "data": {
      "application/vnd.microsoft.datawrangler.viewer.v0+json": {
       "columns": [
        {
         "name": "index",
         "rawType": "object",
         "type": "string"
        },
        {
         "name": "year",
         "rawType": "float64",
         "type": "float"
        },
        {
         "name": "selling_price",
         "rawType": "float64",
         "type": "float"
        },
        {
         "name": "km_driven",
         "rawType": "float64",
         "type": "float"
        },
        {
         "name": "seats",
         "rawType": "float64",
         "type": "float"
        },
        {
         "name": "owner_num",
         "rawType": "float64",
         "type": "float"
        },
        {
         "name": "mileage_num",
         "rawType": "float64",
         "type": "float"
        },
        {
         "name": "engine_num",
         "rawType": "float64",
         "type": "float"
        },
        {
         "name": "max_power_num",
         "rawType": "float64",
         "type": "float"
        }
       ],
       "ref": "e5564d59-b0e4-43fe-ad6d-3986443a920a",
       "rows": [
        [
         "count",
         "8028.0",
         "8028.0",
         "8028.0",
         "7814.0",
         "8028.0",
         "7814.0",
         "7814.0",
         "7820.0"
        ],
        [
         "mean",
         "2013.8155206776282",
         "640393.6542102641",
         "69773.14025909317",
         "5.421551062196058",
         "1.45802192326856",
         "19.391961863322244",
         "1462.9146403890454",
         "91.8197257033248"
        ],
        [
         "std",
         "4.030835830063144",
         "802701.5487227321",
         "56644.187102038435",
         "0.9631247144344058",
         "0.7152831065593205",
         "4.001972200745228",
         "504.75974214958046",
         "35.804513206301614"
        ],
        [
         "min",
         "1983.0",
         "29999.0",
         "1000.0",
         "2.0",
         "1.0",
         "0.0",
         "624.0",
         "0.0"
        ],
        [
         "25%",
         "2011.0",
         "260000.0",
         "35000.0",
         "5.0",
         "1.0",
         "16.78",
         "1197.0",
         "68.85"
        ],
        [
         "50%",
         "2015.0",
         "450000.0",
         "60000.0",
         "5.0",
         "1.0",
         "19.3",
         "1248.0",
         "82.4"
        ],
        [
         "75%",
         "2017.0",
         "680000.0",
         "98000.0",
         "5.0",
         "2.0",
         "22.32",
         "1582.0",
         "102.0"
        ],
        [
         "max",
         "2020.0",
         "10000000.0",
         "2360457.0",
         "14.0",
         "4.0",
         "42.0",
         "3604.0",
         "400.0"
        ]
       ],
       "shape": {
        "columns": 8,
        "rows": 8
       }
      },
      "text/html": [
       "<div>\n",
       "<style scoped>\n",
       "    .dataframe tbody tr th:only-of-type {\n",
       "        vertical-align: middle;\n",
       "    }\n",
       "\n",
       "    .dataframe tbody tr th {\n",
       "        vertical-align: top;\n",
       "    }\n",
       "\n",
       "    .dataframe thead th {\n",
       "        text-align: right;\n",
       "    }\n",
       "</style>\n",
       "<table border=\"1\" class=\"dataframe\">\n",
       "  <thead>\n",
       "    <tr style=\"text-align: right;\">\n",
       "      <th></th>\n",
       "      <th>year</th>\n",
       "      <th>selling_price</th>\n",
       "      <th>km_driven</th>\n",
       "      <th>seats</th>\n",
       "      <th>owner_num</th>\n",
       "      <th>mileage_num</th>\n",
       "      <th>engine_num</th>\n",
       "      <th>max_power_num</th>\n",
       "    </tr>\n",
       "  </thead>\n",
       "  <tbody>\n",
       "    <tr>\n",
       "      <th>count</th>\n",
       "      <td>8028.000000</td>\n",
       "      <td>8.028000e+03</td>\n",
       "      <td>8.028000e+03</td>\n",
       "      <td>7814.000000</td>\n",
       "      <td>8028.000000</td>\n",
       "      <td>7814.000000</td>\n",
       "      <td>7814.000000</td>\n",
       "      <td>7820.000000</td>\n",
       "    </tr>\n",
       "    <tr>\n",
       "      <th>mean</th>\n",
       "      <td>2013.815521</td>\n",
       "      <td>6.403937e+05</td>\n",
       "      <td>6.977314e+04</td>\n",
       "      <td>5.421551</td>\n",
       "      <td>1.458022</td>\n",
       "      <td>19.391962</td>\n",
       "      <td>1462.914640</td>\n",
       "      <td>91.819726</td>\n",
       "    </tr>\n",
       "    <tr>\n",
       "      <th>std</th>\n",
       "      <td>4.030836</td>\n",
       "      <td>8.027015e+05</td>\n",
       "      <td>5.664419e+04</td>\n",
       "      <td>0.963125</td>\n",
       "      <td>0.715283</td>\n",
       "      <td>4.001972</td>\n",
       "      <td>504.759742</td>\n",
       "      <td>35.804513</td>\n",
       "    </tr>\n",
       "    <tr>\n",
       "      <th>min</th>\n",
       "      <td>1983.000000</td>\n",
       "      <td>2.999900e+04</td>\n",
       "      <td>1.000000e+03</td>\n",
       "      <td>2.000000</td>\n",
       "      <td>1.000000</td>\n",
       "      <td>0.000000</td>\n",
       "      <td>624.000000</td>\n",
       "      <td>0.000000</td>\n",
       "    </tr>\n",
       "    <tr>\n",
       "      <th>25%</th>\n",
       "      <td>2011.000000</td>\n",
       "      <td>2.600000e+05</td>\n",
       "      <td>3.500000e+04</td>\n",
       "      <td>5.000000</td>\n",
       "      <td>1.000000</td>\n",
       "      <td>16.780000</td>\n",
       "      <td>1197.000000</td>\n",
       "      <td>68.850000</td>\n",
       "    </tr>\n",
       "    <tr>\n",
       "      <th>50%</th>\n",
       "      <td>2015.000000</td>\n",
       "      <td>4.500000e+05</td>\n",
       "      <td>6.000000e+04</td>\n",
       "      <td>5.000000</td>\n",
       "      <td>1.000000</td>\n",
       "      <td>19.300000</td>\n",
       "      <td>1248.000000</td>\n",
       "      <td>82.400000</td>\n",
       "    </tr>\n",
       "    <tr>\n",
       "      <th>75%</th>\n",
       "      <td>2017.000000</td>\n",
       "      <td>6.800000e+05</td>\n",
       "      <td>9.800000e+04</td>\n",
       "      <td>5.000000</td>\n",
       "      <td>2.000000</td>\n",
       "      <td>22.320000</td>\n",
       "      <td>1582.000000</td>\n",
       "      <td>102.000000</td>\n",
       "    </tr>\n",
       "    <tr>\n",
       "      <th>max</th>\n",
       "      <td>2020.000000</td>\n",
       "      <td>1.000000e+07</td>\n",
       "      <td>2.360457e+06</td>\n",
       "      <td>14.000000</td>\n",
       "      <td>4.000000</td>\n",
       "      <td>42.000000</td>\n",
       "      <td>3604.000000</td>\n",
       "      <td>400.000000</td>\n",
       "    </tr>\n",
       "  </tbody>\n",
       "</table>\n",
       "</div>"
      ],
      "text/plain": [
       "              year  selling_price     km_driven        seats    owner_num  \\\n",
       "count  8028.000000   8.028000e+03  8.028000e+03  7814.000000  8028.000000   \n",
       "mean   2013.815521   6.403937e+05  6.977314e+04     5.421551     1.458022   \n",
       "std       4.030836   8.027015e+05  5.664419e+04     0.963125     0.715283   \n",
       "min    1983.000000   2.999900e+04  1.000000e+03     2.000000     1.000000   \n",
       "25%    2011.000000   2.600000e+05  3.500000e+04     5.000000     1.000000   \n",
       "50%    2015.000000   4.500000e+05  6.000000e+04     5.000000     1.000000   \n",
       "75%    2017.000000   6.800000e+05  9.800000e+04     5.000000     2.000000   \n",
       "max    2020.000000   1.000000e+07  2.360457e+06    14.000000     4.000000   \n",
       "\n",
       "       mileage_num   engine_num  max_power_num  \n",
       "count  7814.000000  7814.000000    7820.000000  \n",
       "mean     19.391962  1462.914640      91.819726  \n",
       "std       4.001972   504.759742      35.804513  \n",
       "min       0.000000   624.000000       0.000000  \n",
       "25%      16.780000  1197.000000      68.850000  \n",
       "50%      19.300000  1248.000000      82.400000  \n",
       "75%      22.320000  1582.000000     102.000000  \n",
       "max      42.000000  3604.000000     400.000000  "
      ]
     },
     "execution_count": 21,
     "metadata": {},
     "output_type": "execute_result"
    }
   ],
   "source": [
    "df.describe()"
   ]
  },
  {
   "cell_type": "markdown",
   "id": "c9525059",
   "metadata": {},
   "source": [
    "## 2. Exploratory Data Analysis"
   ]
  },
  {
   "cell_type": "code",
   "execution_count": 22,
   "id": "aa66e191",
   "metadata": {},
   "outputs": [
    {
     "data": {
      "application/vnd.microsoft.datawrangler.viewer.v0+json": {
       "columns": [
        {
         "name": "brand",
         "rawType": "object",
         "type": "string"
        },
        {
         "name": "0",
         "rawType": "int64",
         "type": "integer"
        }
       ],
       "ref": "429fd5fe-0296-452e-aeea-759a83d192f2",
       "rows": [
        [
         "Maruti",
         "2378"
        ],
        [
         "Hyundai",
         "1393"
        ],
        [
         "Mahindra",
         "772"
        ],
        [
         "Tata",
         "733"
        ],
        [
         "Toyota",
         "488"
        ],
        [
         "Honda",
         "466"
        ],
        [
         "Ford",
         "397"
        ],
        [
         "Chevrolet",
         "228"
        ],
        [
         "Renault",
         "228"
        ],
        [
         "Volkswagen",
         "185"
        ],
        [
         "BMW",
         "120"
        ],
        [
         "Skoda",
         "105"
        ],
        [
         "Nissan",
         "81"
        ],
        [
         "Jaguar",
         "71"
        ],
        [
         "Volvo",
         "67"
        ],
        [
         "Datsun",
         "65"
        ],
        [
         "Mercedes-Benz",
         "54"
        ],
        [
         "Fiat",
         "47"
        ],
        [
         "Audi",
         "37"
        ],
        [
         "Lexus",
         "34"
        ],
        [
         "Jeep",
         "31"
        ],
        [
         "Mitsubishi",
         "14"
        ],
        [
         "Land",
         "6"
        ],
        [
         "Force",
         "6"
        ],
        [
         "Isuzu",
         "5"
        ],
        [
         "Kia",
         "4"
        ],
        [
         "Ambassador",
         "4"
        ],
        [
         "MG",
         "3"
        ],
        [
         "Daewoo",
         "3"
        ],
        [
         "Opel",
         "1"
        ],
        [
         "Peugeot",
         "1"
        ],
        [
         "Ashok",
         "1"
        ]
       ],
       "shape": {
        "columns": 1,
        "rows": 32
       }
      },
      "text/plain": [
       "brand\n",
       "Maruti           2378\n",
       "Hyundai          1393\n",
       "Mahindra          772\n",
       "Tata              733\n",
       "Toyota            488\n",
       "Honda             466\n",
       "Ford              397\n",
       "Chevrolet         228\n",
       "Renault           228\n",
       "Volkswagen        185\n",
       "BMW               120\n",
       "Skoda             105\n",
       "Nissan             81\n",
       "Jaguar             71\n",
       "Volvo              67\n",
       "Datsun             65\n",
       "Mercedes-Benz      54\n",
       "Fiat               47\n",
       "Audi               37\n",
       "Lexus              34\n",
       "Jeep               31\n",
       "Mitsubishi         14\n",
       "Land                6\n",
       "Force               6\n",
       "Isuzu               5\n",
       "Kia                 4\n",
       "Ambassador          4\n",
       "MG                  3\n",
       "Daewoo              3\n",
       "Opel                1\n",
       "Peugeot             1\n",
       "Ashok               1\n",
       "dtype: int64"
      ]
     },
     "execution_count": 22,
     "metadata": {},
     "output_type": "execute_result"
    }
   ],
   "source": [
    "df.groupby('brand').size().sort_values(ascending=False)"
   ]
  },
  {
   "cell_type": "code",
   "execution_count": 23,
   "id": "b28c5668",
   "metadata": {},
   "outputs": [
    {
     "name": "stdout",
     "output_type": "stream",
     "text": [
      "Column: Unique values count : [List first five elements]\n",
      "\n",
      " name: 2015 : ['Maruti Swift Dzire VDI' 'Skoda Rapid 1.5 TDI Ambition'\n",
      " 'Honda City 2017-2020 EXi' 'Hyundai i20 Sportz Diesel'\n",
      " 'Maruti Swift VXI BSIII']\n",
      "\n",
      " fuel: 2 : ['Diesel' 'Petrol']\n",
      "\n",
      " seller_type: 3 : ['Individual' 'Dealer' 'Trustmark Dealer']\n",
      "\n",
      " transmission: 2 : ['Manual' 'Automatic']\n",
      "\n",
      " owner: 4 : ['First Owner' 'Second Owner' 'Third Owner' 'Fourth & Above Owner']\n",
      "\n",
      " mileage: 366 : ['23.4 kmpl' '21.14 kmpl' '17.7 kmpl' '23.0 kmpl' '16.1 kmpl']\n",
      "\n",
      " engine: 121 : ['1248 CC' '1498 CC' '1497 CC' '1396 CC' '1298 CC']\n",
      "\n",
      " max_power: 308 : ['74 bhp' '103.52 bhp' '78 bhp' '90 bhp' '88.2 bhp']\n",
      "\n",
      " torque: 425 : ['190Nm@ 2000rpm' '250Nm@ 1500-2500rpm' '12.7@ 2,700(kgm@ rpm)'\n",
      " '22.4 kgm at 1750-2750rpm' '11.5@ 4,500(kgm@ rpm)']\n",
      "\n",
      " brand: 32 : ['Maruti' 'Skoda' 'Honda' 'Hyundai' 'Toyota']\n"
     ]
    }
   ],
   "source": [
    "# Check unique values and counts of categorical columns\n",
    "print(f\"Column: Unique values count : [List first five elements]\")\n",
    "for col in df.select_dtypes(include=['object']).columns:\n",
    "    print(f\"\\n {col}: {df[col].nunique()} : {df[col].unique()[:5]}\")"
   ]
  },
  {
   "cell_type": "code",
   "execution_count": 24,
   "id": "806937f6",
   "metadata": {},
   "outputs": [
    {
     "data": {
      "text/plain": [
       "Index(['name', 'year', 'selling_price', 'km_driven', 'fuel', 'seller_type',\n",
       "       'transmission', 'owner', 'mileage', 'engine', 'max_power', 'torque',\n",
       "       'seats', 'owner_num', 'mileage_num', 'engine_num', 'max_power_num',\n",
       "       'brand'],\n",
       "      dtype='object')"
      ]
     },
     "execution_count": 24,
     "metadata": {},
     "output_type": "execute_result"
    }
   ],
   "source": [
    "# data columns list so far\n",
    "df.columns"
   ]
  },
  {
   "cell_type": "code",
   "execution_count": 25,
   "id": "2c9039c2",
   "metadata": {},
   "outputs": [],
   "source": [
    "# Distribution of target variable 'Price\n",
    "# display plots in notebook\n",
    "%matplotlib inline"
   ]
  },
  {
   "cell_type": "code",
   "execution_count": 26,
   "id": "3ea87b1c",
   "metadata": {},
   "outputs": [
    {
     "data": {
      "image/png": "[encoded data removed]",
      "text/plain": [
       "<Figure size 640x480 with 1 Axes>"
      ]
     },
     "metadata": {},
     "output_type": "display_data"
    }
   ],
   "source": [
    "sns.histplot(df.selling_price, kde=True)\n",
    "plt.title('Distribution of Car Prices')\n",
    "plt.xlabel('Price')\n",
    "plt.ylabel('Frequency')\n",
    "plt.show()"
   ]
  },
  {
   "cell_type": "code",
   "execution_count": 27,
   "id": "31a4422a",
   "metadata": {},
   "outputs": [
    {
     "data": {
      "text/plain": [
       "<Axes: xlabel='selling_price', ylabel='Count'>"
      ]
     },
     "execution_count": 27,
     "metadata": {},
     "output_type": "execute_result"
    },
    {
     "data": {
      "image/png": "[encoded data removed]",
      "text/plain": [
       "<Figure size 640x480 with 1 Axes>"
      ]
     },
     "metadata": {},
     "output_type": "display_data"
    }
   ],
   "source": [
    "# Long tail distribution needs to be handled\n",
    "sns.histplot(df.selling_price[df.selling_price < 5000000], kde=True)"
   ]
  },
  {
   "cell_type": "code",
   "execution_count": 28,
   "id": "32f0f3ad",
   "metadata": {},
   "outputs": [
    {
     "data": {
      "text/plain": [
       "array([ 0.        ,  0.69314718,  2.39789527,  6.90875478, 11.51293546])"
      ]
     },
     "execution_count": 28,
     "metadata": {},
     "output_type": "execute_result"
    }
   ],
   "source": [
    "np.log1p([0,1,10,1000,100000])"
   ]
  },
  {
   "cell_type": "code",
   "execution_count": 29,
   "id": "560b0316",
   "metadata": {},
   "outputs": [
    {
     "data": {
      "image/png": "[encoded data removed]",
      "text/plain": [
       "<Figure size 640x480 with 1 Axes>"
      ]
     },
     "metadata": {},
     "output_type": "display_data"
    }
   ],
   "source": [
    "# Apply log transformation to reduce long tail effect\n",
    "price_in_log = np.log1p(df.selling_price)\n",
    "sns.histplot(price_in_log, kde=True)\n",
    "plt.title('Distribution of Log-Transformed Car Prices')\n",
    "plt.xlabel('Log(Price)')\n",
    "plt.ylabel('Frequency')\n",
    "plt.show()"
   ]
  },
  {
   "cell_type": "markdown",
   "id": "1facc10f",
   "metadata": {},
   "source": [
    "Before the log transformation, car prices are usually right-skewed (lots of cheaper cars, few very expensive ones).\n",
    "\n",
    "After applying log(price), the distribution becomes much closer to normal (bell-shaped) distribution."
   ]
  },
  {
   "cell_type": "markdown",
   "id": "95790838",
   "metadata": {},
   "source": [
    "# 3 & 4. Feature Selection & Preprocessing"
   ]
  },
  {
   "cell_type": "code",
   "execution_count": 30,
   "id": "fdd46d96",
   "metadata": {},
   "outputs": [
    {
     "data": {
      "application/vnd.microsoft.datawrangler.viewer.v0+json": {
       "columns": [
        {
         "name": "index",
         "rawType": "int64",
         "type": "integer"
        },
        {
         "name": "name",
         "rawType": "object",
         "type": "string"
        },
        {
         "name": "year",
         "rawType": "int64",
         "type": "integer"
        },
        {
         "name": "selling_price",
         "rawType": "int64",
         "type": "integer"
        },
        {
         "name": "km_driven",
         "rawType": "int64",
         "type": "integer"
        },
        {
         "name": "fuel",
         "rawType": "object",
         "type": "string"
        },
        {
         "name": "seller_type",
         "rawType": "object",
         "type": "string"
        },
        {
         "name": "transmission",
         "rawType": "object",
         "type": "string"
        },
        {
         "name": "owner",
         "rawType": "object",
         "type": "string"
        },
        {
         "name": "mileage",
         "rawType": "object",
         "type": "string"
        },
        {
         "name": "engine",
         "rawType": "object",
         "type": "string"
        },
        {
         "name": "max_power",
         "rawType": "object",
         "type": "string"
        },
        {
         "name": "torque",
         "rawType": "object",
         "type": "string"
        },
        {
         "name": "seats",
         "rawType": "float64",
         "type": "float"
        },
        {
         "name": "owner_num",
         "rawType": "int64",
         "type": "integer"
        },
        {
         "name": "mileage_num",
         "rawType": "float64",
         "type": "float"
        },
        {
         "name": "engine_num",
         "rawType": "float64",
         "type": "float"
        },
        {
         "name": "max_power_num",
         "rawType": "float64",
         "type": "float"
        },
        {
         "name": "brand",
         "rawType": "object",
         "type": "string"
        },
        {
         "name": "log_price",
         "rawType": "float64",
         "type": "float"
        }
       ],
       "ref": "cae47e95-43af-4f5d-ac26-72a7acb93801",
       "rows": [
        [
         "0",
         "Maruti Swift Dzire VDI",
         "2014",
         "450000",
         "145500",
         "Diesel",
         "Individual",
         "Manual",
         "First Owner",
         "23.4 kmpl",
         "1248 CC",
         "74 bhp",
         "190Nm@ 2000rpm",
         "5.0",
         "1",
         "23.4",
         "1248.0",
         "74.0",
         "Maruti",
         "13.017005083966255"
        ],
        [
         "1",
         "Skoda Rapid 1.5 TDI Ambition",
         "2014",
         "370000",
         "120000",
         "Diesel",
         "Individual",
         "Manual",
         "Second Owner",
         "21.14 kmpl",
         "1498 CC",
         "103.52 bhp",
         "250Nm@ 1500-2500rpm",
         "5.0",
         "2",
         "21.14",
         "1498.0",
         "103.52",
         "Skoda",
         "12.821260987319457"
        ],
        [
         "2",
         "Honda City 2017-2020 EXi",
         "2006",
         "158000",
         "140000",
         "Petrol",
         "Individual",
         "Manual",
         "Third Owner",
         "17.7 kmpl",
         "1497 CC",
         "78 bhp",
         "12.7@ 2,700(kgm@ rpm)",
         "5.0",
         "3",
         "17.7",
         "1497.0",
         "78.0",
         "Honda",
         "11.970356641102999"
        ],
        [
         "3",
         "Hyundai i20 Sportz Diesel",
         "2010",
         "225000",
         "127000",
         "Diesel",
         "Individual",
         "Manual",
         "First Owner",
         "23.0 kmpl",
         "1396 CC",
         "90 bhp",
         "22.4 kgm at 1750-2750rpm",
         "5.0",
         "1",
         "23.0",
         "1396.0",
         "90.0",
         "Hyundai",
         "12.323860125621126"
        ],
        [
         "4",
         "Maruti Swift VXI BSIII",
         "2007",
         "130000",
         "120000",
         "Petrol",
         "Individual",
         "Manual",
         "First Owner",
         "16.1 kmpl",
         "1298 CC",
         "88.2 bhp",
         "11.5@ 4,500(kgm@ rpm)",
         "5.0",
         "1",
         "16.1",
         "1298.0",
         "88.2",
         "Maruti",
         "11.775297421715827"
        ]
       ],
       "shape": {
        "columns": 19,
        "rows": 5
       }
      },
      "text/html": [
       "<div>\n",
       "<style scoped>\n",
       "    .dataframe tbody tr th:only-of-type {\n",
       "        vertical-align: middle;\n",
       "    }\n",
       "\n",
       "    .dataframe tbody tr th {\n",
       "        vertical-align: top;\n",
       "    }\n",
       "\n",
       "    .dataframe thead th {\n",
       "        text-align: right;\n",
       "    }\n",
       "</style>\n",
       "<table border=\"1\" class=\"dataframe\">\n",
       "  <thead>\n",
       "    <tr style=\"text-align: right;\">\n",
       "      <th></th>\n",
       "      <th>name</th>\n",
       "      <th>year</th>\n",
       "      <th>selling_price</th>\n",
       "      <th>km_driven</th>\n",
       "      <th>fuel</th>\n",
       "      <th>seller_type</th>\n",
       "      <th>transmission</th>\n",
       "      <th>owner</th>\n",
       "      <th>mileage</th>\n",
       "      <th>engine</th>\n",
       "      <th>max_power</th>\n",
       "      <th>torque</th>\n",
       "      <th>seats</th>\n",
       "      <th>owner_num</th>\n",
       "      <th>mileage_num</th>\n",
       "      <th>engine_num</th>\n",
       "      <th>max_power_num</th>\n",
       "      <th>brand</th>\n",
       "      <th>log_price</th>\n",
       "    </tr>\n",
       "  </thead>\n",
       "  <tbody>\n",
       "    <tr>\n",
       "      <th>0</th>\n",
       "      <td>Maruti Swift Dzire VDI</td>\n",
       "      <td>2014</td>\n",
       "      <td>450000</td>\n",
       "      <td>145500</td>\n",
       "      <td>Diesel</td>\n",
       "      <td>Individual</td>\n",
       "      <td>Manual</td>\n",
       "      <td>First Owner</td>\n",
       "      <td>23.4 kmpl</td>\n",
       "      <td>1248 CC</td>\n",
       "      <td>74 bhp</td>\n",
       "      <td>190Nm@ 2000rpm</td>\n",
       "      <td>5.0</td>\n",
       "      <td>1</td>\n",
       "      <td>23.40</td>\n",
       "      <td>1248.0</td>\n",
       "      <td>74.00</td>\n",
       "      <td>Maruti</td>\n",
       "      <td>13.017005</td>\n",
       "    </tr>\n",
       "    <tr>\n",
       "      <th>1</th>\n",
       "      <td>Skoda Rapid 1.5 TDI Ambition</td>\n",
       "      <td>2014</td>\n",
       "      <td>370000</td>\n",
       "      <td>120000</td>\n",
       "      <td>Diesel</td>\n",
       "      <td>Individual</td>\n",
       "      <td>Manual</td>\n",
       "      <td>Second Owner</td>\n",
       "      <td>21.14 kmpl</td>\n",
       "      <td>1498 CC</td>\n",
       "      <td>103.52 bhp</td>\n",
       "      <td>250Nm@ 1500-2500rpm</td>\n",
       "      <td>5.0</td>\n",
       "      <td>2</td>\n",
       "      <td>21.14</td>\n",
       "      <td>1498.0</td>\n",
       "      <td>103.52</td>\n",
       "      <td>Skoda</td>\n",
       "      <td>12.821261</td>\n",
       "    </tr>\n",
       "    <tr>\n",
       "      <th>2</th>\n",
       "      <td>Honda City 2017-2020 EXi</td>\n",
       "      <td>2006</td>\n",
       "      <td>158000</td>\n",
       "      <td>140000</td>\n",
       "      <td>Petrol</td>\n",
       "      <td>Individual</td>\n",
       "      <td>Manual</td>\n",
       "      <td>Third Owner</td>\n",
       "      <td>17.7 kmpl</td>\n",
       "      <td>1497 CC</td>\n",
       "      <td>78 bhp</td>\n",
       "      <td>12.7@ 2,700(kgm@ rpm)</td>\n",
       "      <td>5.0</td>\n",
       "      <td>3</td>\n",
       "      <td>17.70</td>\n",
       "      <td>1497.0</td>\n",
       "      <td>78.00</td>\n",
       "      <td>Honda</td>\n",
       "      <td>11.970357</td>\n",
       "    </tr>\n",
       "    <tr>\n",
       "      <th>3</th>\n",
       "      <td>Hyundai i20 Sportz Diesel</td>\n",
       "      <td>2010</td>\n",
       "      <td>225000</td>\n",
       "      <td>127000</td>\n",
       "      <td>Diesel</td>\n",
       "      <td>Individual</td>\n",
       "      <td>Manual</td>\n",
       "      <td>First Owner</td>\n",
       "      <td>23.0 kmpl</td>\n",
       "      <td>1396 CC</td>\n",
       "      <td>90 bhp</td>\n",
       "      <td>22.4 kgm at 1750-2750rpm</td>\n",
       "      <td>5.0</td>\n",
       "      <td>1</td>\n",
       "      <td>23.00</td>\n",
       "      <td>1396.0</td>\n",
       "      <td>90.00</td>\n",
       "      <td>Hyundai</td>\n",
       "      <td>12.323860</td>\n",
       "    </tr>\n",
       "    <tr>\n",
       "      <th>4</th>\n",
       "      <td>Maruti Swift VXI BSIII</td>\n",
       "      <td>2007</td>\n",
       "      <td>130000</td>\n",
       "      <td>120000</td>\n",
       "      <td>Petrol</td>\n",
       "      <td>Individual</td>\n",
       "      <td>Manual</td>\n",
       "      <td>First Owner</td>\n",
       "      <td>16.1 kmpl</td>\n",
       "      <td>1298 CC</td>\n",
       "      <td>88.2 bhp</td>\n",
       "      <td>11.5@ 4,500(kgm@ rpm)</td>\n",
       "      <td>5.0</td>\n",
       "      <td>1</td>\n",
       "      <td>16.10</td>\n",
       "      <td>1298.0</td>\n",
       "      <td>88.20</td>\n",
       "      <td>Maruti</td>\n",
       "      <td>11.775297</td>\n",
       "    </tr>\n",
       "  </tbody>\n",
       "</table>\n",
       "</div>"
      ],
      "text/plain": [
       "                           name  year  selling_price  km_driven    fuel  \\\n",
       "0        Maruti Swift Dzire VDI  2014         450000     145500  Diesel   \n",
       "1  Skoda Rapid 1.5 TDI Ambition  2014         370000     120000  Diesel   \n",
       "2      Honda City 2017-2020 EXi  2006         158000     140000  Petrol   \n",
       "3     Hyundai i20 Sportz Diesel  2010         225000     127000  Diesel   \n",
       "4        Maruti Swift VXI BSIII  2007         130000     120000  Petrol   \n",
       "\n",
       "  seller_type transmission         owner     mileage   engine   max_power  \\\n",
       "0  Individual       Manual   First Owner   23.4 kmpl  1248 CC      74 bhp   \n",
       "1  Individual       Manual  Second Owner  21.14 kmpl  1498 CC  103.52 bhp   \n",
       "2  Individual       Manual   Third Owner   17.7 kmpl  1497 CC      78 bhp   \n",
       "3  Individual       Manual   First Owner   23.0 kmpl  1396 CC      90 bhp   \n",
       "4  Individual       Manual   First Owner   16.1 kmpl  1298 CC    88.2 bhp   \n",
       "\n",
       "                     torque  seats  owner_num  mileage_num  engine_num  \\\n",
       "0            190Nm@ 2000rpm    5.0          1        23.40      1248.0   \n",
       "1       250Nm@ 1500-2500rpm    5.0          2        21.14      1498.0   \n",
       "2     12.7@ 2,700(kgm@ rpm)    5.0          3        17.70      1497.0   \n",
       "3  22.4 kgm at 1750-2750rpm    5.0          1        23.00      1396.0   \n",
       "4     11.5@ 4,500(kgm@ rpm)    5.0          1        16.10      1298.0   \n",
       "\n",
       "   max_power_num    brand  log_price  \n",
       "0          74.00   Maruti  13.017005  \n",
       "1         103.52    Skoda  12.821261  \n",
       "2          78.00    Honda  11.970357  \n",
       "3          90.00  Hyundai  12.323860  \n",
       "4          88.20   Maruti  11.775297  "
      ]
     },
     "execution_count": 30,
     "metadata": {},
     "output_type": "execute_result"
    }
   ],
   "source": [
    "df['log_price'] = np.log1p(df.selling_price)\n",
    "df.head()"
   ]
  },
  {
   "cell_type": "code",
   "execution_count": 31,
   "id": "134fb587",
   "metadata": {},
   "outputs": [
    {
     "data": {
      "application/vnd.microsoft.datawrangler.viewer.v0+json": {
       "columns": [
        {
         "name": "index",
         "rawType": "object",
         "type": "string"
        },
        {
         "name": "0",
         "rawType": "int64",
         "type": "integer"
        }
       ],
       "ref": "2353f11a-7212-4dab-b8a0-ab4de31e7867",
       "rows": [
        [
         "engine",
         "214"
        ],
        [
         "engine_num",
         "214"
        ],
        [
         "mileage_num",
         "214"
        ],
        [
         "seats",
         "214"
        ],
        [
         "mileage",
         "214"
        ],
        [
         "torque",
         "214"
        ],
        [
         "max_power",
         "208"
        ],
        [
         "max_power_num",
         "208"
        ],
        [
         "brand",
         "0"
        ],
        [
         "owner_num",
         "0"
        ],
        [
         "name",
         "0"
        ],
        [
         "year",
         "0"
        ],
        [
         "owner",
         "0"
        ],
        [
         "transmission",
         "0"
        ],
        [
         "seller_type",
         "0"
        ],
        [
         "fuel",
         "0"
        ],
        [
         "km_driven",
         "0"
        ],
        [
         "selling_price",
         "0"
        ],
        [
         "log_price",
         "0"
        ]
       ],
       "shape": {
        "columns": 1,
        "rows": 19
       }
      },
      "text/plain": [
       "engine           214\n",
       "engine_num       214\n",
       "mileage_num      214\n",
       "seats            214\n",
       "mileage          214\n",
       "torque           214\n",
       "max_power        208\n",
       "max_power_num    208\n",
       "brand              0\n",
       "owner_num          0\n",
       "name               0\n",
       "year               0\n",
       "owner              0\n",
       "transmission       0\n",
       "seller_type        0\n",
       "fuel               0\n",
       "km_driven          0\n",
       "selling_price      0\n",
       "log_price          0\n",
       "dtype: int64"
      ]
     },
     "execution_count": 31,
     "metadata": {},
     "output_type": "execute_result"
    }
   ],
   "source": [
    "# Missing values for each column and sort descending\n",
    "df.isnull().sum().sort_values(ascending=False)\n"
   ]
  },
  {
   "cell_type": "markdown",
   "id": "7ab8a218",
   "metadata": {},
   "source": [
    "Engine, Mileage, Seats, Torque , Max Power has null values"
   ]
  },
  {
   "cell_type": "code",
   "execution_count": 32,
   "id": "e3ab46fe",
   "metadata": {},
   "outputs": [
    {
     "data": {
      "image/png": "[encoded data removed]",
      "text/plain": [
       "<Figure size 640x480 with 1 Axes>"
      ]
     },
     "metadata": {},
     "output_type": "display_data"
    }
   ],
   "source": [
    "# Checking distribution of null values in Engine column\n",
    "sns.histplot(df['engine_num'].dropna(), kde=True)\n",
    "plt.title('Distribution of Engine Sizes')\n",
    "plt.xlabel('Engine Size (CC)')\n",
    "plt.ylabel('Frequency')\n",
    "plt.show()"
   ]
  },
  {
   "cell_type": "code",
   "execution_count": 33,
   "id": "fdbd269e",
   "metadata": {},
   "outputs": [
    {
     "data": {
      "image/png": "[encoded data removed]",
      "text/plain": [
       "<Figure size 640x480 with 1 Axes>"
      ]
     },
     "metadata": {},
     "output_type": "display_data"
    }
   ],
   "source": [
    "# Checking distribution of null values in Engine column\n",
    "sns.histplot(np.log1p(df['engine_num'].dropna()), kde=True)\n",
    "plt.title('Distribution of Engine Sizes (Log Scale)')\n",
    "plt.xlabel('Log(Engine Size (CC))')\n",
    "plt.ylabel('Frequency')\n",
    "plt.show()\n"
   ]
  },
  {
   "cell_type": "code",
   "execution_count": 34,
   "id": "d66ca28e",
   "metadata": {},
   "outputs": [
    {
     "data": {
      "image/png": "[encoded data removed]",
      "text/plain": [
       "<Figure size 640x480 with 1 Axes>"
      ]
     },
     "metadata": {},
     "output_type": "display_data"
    }
   ],
   "source": [
    "sns.histplot(np.log1p(df['engine_num'].dropna()), kde=True) #skewed\n",
    "plt.title('Distribution of Engine Sizes (Log Scale)')\n",
    "plt.xlabel('Log(Engine Size (CC))')\n",
    "plt.ylabel('Frequency')\n",
    "plt.show()"
   ]
  },
  {
   "cell_type": "code",
   "execution_count": 35,
   "id": "5c3f2cbb",
   "metadata": {},
   "outputs": [
    {
     "data": {
      "image/png": "[encoded data removed]",
      "text/plain": [
       "<Figure size 500x500 with 1 Axes>"
      ]
     },
     "metadata": {},
     "output_type": "display_data"
    },
    {
     "data": {
      "image/png": "[encoded data removed]",
      "text/plain": [
       "<Figure size 500x500 with 1 Axes>"
      ]
     },
     "metadata": {},
     "output_type": "display_data"
    },
    {
     "data": {
      "image/png": "[encoded data removed]",
      "text/plain": [
       "<Figure size 500x500 with 1 Axes>"
      ]
     },
     "metadata": {},
     "output_type": "display_data"
    }
   ],
   "source": [
    "sns.displot(data = df, x = 'mileage_num', kde=True) # normalized\n",
    "plt.title('Distribution of Mileage')\n",
    "plt.xlabel('Mileage (KMPL)')\n",
    "plt.ylabel('Frequency')\n",
    "plt.show()\n",
    "\n",
    "sns.displot(data = df, x = 'seats', kde=True) #has long tail\n",
    "plt.title('Distribution of Number of Seats')\n",
    "plt.xlabel('Number of Seats')\n",
    "plt.ylabel('Frequency')\n",
    "plt.show()\n",
    "\n",
    "sns.displot(data = df, x = 'max_power', kde=True) #has long tail\n",
    "plt.title('Distribution of Maximum Power')\n",
    "plt.xlabel('Maximum Power (BHP)')\n",
    "plt.ylabel('Frequency')\n",
    "plt.show()\n",
    "\n",
    "# sns.displot(data = df, x = 'torque') # --- IGNORE ---"
   ]
  },
  {
   "cell_type": "code",
   "execution_count": 36,
   "id": "43df95d7",
   "metadata": {},
   "outputs": [
    {
     "data": {
      "text/plain": [
       "np.float64(0.02665670154459392)"
      ]
     },
     "execution_count": 36,
     "metadata": {},
     "output_type": "execute_result"
    }
   ],
   "source": [
    "# Distribution is skewed, check % of null values\n",
    "df['engine_num'].isnull().sum() / len(df)"
   ]
  },
  {
   "cell_type": "code",
   "execution_count": 37,
   "id": "c736527e",
   "metadata": {},
   "outputs": [
    {
     "name": "stdout",
     "output_type": "stream",
     "text": [
      "before removing null values: 214\n",
      "after removing null values: 0\n"
     ]
    }
   ],
   "source": [
    "# The null values content is less than 10%, removing engine with null values\n",
    "print(f\"before removing null values:\", df['engine_num'].isnull().sum())\n",
    "df = df.dropna(subset=['engine_num'])\n",
    "print(f\"after removing null values:\", df['engine_num'].isnull().sum())"
   ]
  },
  {
   "cell_type": "code",
   "execution_count": 38,
   "id": "230a9e2e",
   "metadata": {},
   "outputs": [
    {
     "name": "stdout",
     "output_type": "stream",
     "text": [
      "Total 0\n",
      "name             0\n",
      "max_power        0\n",
      "brand            0\n",
      "max_power_num    0\n",
      "engine_num       0\n",
      "mileage_num      0\n",
      "owner_num        0\n",
      "seats            0\n",
      "torque           0\n",
      "engine           0\n",
      "year             0\n",
      "mileage          0\n",
      "owner            0\n",
      "transmission     0\n",
      "seller_type      0\n",
      "fuel             0\n",
      "km_driven        0\n",
      "selling_price    0\n",
      "log_price        0\n",
      "dtype: int64\n"
     ]
    }
   ],
   "source": [
    "# Check if there are any remaining null values in the dataset\n",
    "print(\"Total\", df.isnull().sum().sum())\n",
    "print(df.isnull().sum().sort_values(ascending=False))\n"
   ]
  },
  {
   "cell_type": "code",
   "execution_count": 39,
   "id": "497f0716",
   "metadata": {},
   "outputs": [
    {
     "data": {
      "application/vnd.microsoft.datawrangler.viewer.v0+json": {
       "columns": [
        {
         "name": "index",
         "rawType": "int64",
         "type": "integer"
        },
        {
         "name": "brand",
         "rawType": "object",
         "type": "string"
        },
        {
         "name": "year",
         "rawType": "int64",
         "type": "integer"
        },
        {
         "name": "selling_price",
         "rawType": "int64",
         "type": "integer"
        },
        {
         "name": "km_driven",
         "rawType": "int64",
         "type": "integer"
        },
        {
         "name": "fuel",
         "rawType": "object",
         "type": "string"
        },
        {
         "name": "seller_type",
         "rawType": "object",
         "type": "string"
        },
        {
         "name": "transmission",
         "rawType": "object",
         "type": "string"
        },
        {
         "name": "owner",
         "rawType": "int64",
         "type": "integer"
        },
        {
         "name": "mileage",
         "rawType": "float64",
         "type": "float"
        },
        {
         "name": "engine",
         "rawType": "float64",
         "type": "float"
        },
        {
         "name": "max_power",
         "rawType": "float64",
         "type": "float"
        },
        {
         "name": "seats",
         "rawType": "float64",
         "type": "float"
        }
       ],
       "ref": "ff3f5c27-b1b1-4d5f-ab97-434ee3e5448e",
       "rows": [
        [
         "0",
         "Maruti",
         "2014",
         "450000",
         "145500",
         "Diesel",
         "Individual",
         "Manual",
         "1",
         "23.4",
         "1248.0",
         "74.0",
         "5.0"
        ],
        [
         "1",
         "Skoda",
         "2014",
         "370000",
         "120000",
         "Diesel",
         "Individual",
         "Manual",
         "2",
         "21.14",
         "1498.0",
         "103.52",
         "5.0"
        ],
        [
         "2",
         "Honda",
         "2006",
         "158000",
         "140000",
         "Petrol",
         "Individual",
         "Manual",
         "3",
         "17.7",
         "1497.0",
         "78.0",
         "5.0"
        ],
        [
         "3",
         "Hyundai",
         "2010",
         "225000",
         "127000",
         "Diesel",
         "Individual",
         "Manual",
         "1",
         "23.0",
         "1396.0",
         "90.0",
         "5.0"
        ],
        [
         "4",
         "Maruti",
         "2007",
         "130000",
         "120000",
         "Petrol",
         "Individual",
         "Manual",
         "1",
         "16.1",
         "1298.0",
         "88.2",
         "5.0"
        ]
       ],
       "shape": {
        "columns": 12,
        "rows": 5
       }
      },
      "text/html": [
       "<div>\n",
       "<style scoped>\n",
       "    .dataframe tbody tr th:only-of-type {\n",
       "        vertical-align: middle;\n",
       "    }\n",
       "\n",
       "    .dataframe tbody tr th {\n",
       "        vertical-align: top;\n",
       "    }\n",
       "\n",
       "    .dataframe thead th {\n",
       "        text-align: right;\n",
       "    }\n",
       "</style>\n",
       "<table border=\"1\" class=\"dataframe\">\n",
       "  <thead>\n",
       "    <tr style=\"text-align: right;\">\n",
       "      <th></th>\n",
       "      <th>brand</th>\n",
       "      <th>year</th>\n",
       "      <th>selling_price</th>\n",
       "      <th>km_driven</th>\n",
       "      <th>fuel</th>\n",
       "      <th>seller_type</th>\n",
       "      <th>transmission</th>\n",
       "      <th>owner</th>\n",
       "      <th>mileage</th>\n",
       "      <th>engine</th>\n",
       "      <th>max_power</th>\n",
       "      <th>seats</th>\n",
       "    </tr>\n",
       "  </thead>\n",
       "  <tbody>\n",
       "    <tr>\n",
       "      <th>0</th>\n",
       "      <td>Maruti</td>\n",
       "      <td>2014</td>\n",
       "      <td>450000</td>\n",
       "      <td>145500</td>\n",
       "      <td>Diesel</td>\n",
       "      <td>Individual</td>\n",
       "      <td>Manual</td>\n",
       "      <td>1</td>\n",
       "      <td>23.40</td>\n",
       "      <td>1248.0</td>\n",
       "      <td>74.00</td>\n",
       "      <td>5.0</td>\n",
       "    </tr>\n",
       "    <tr>\n",
       "      <th>1</th>\n",
       "      <td>Skoda</td>\n",
       "      <td>2014</td>\n",
       "      <td>370000</td>\n",
       "      <td>120000</td>\n",
       "      <td>Diesel</td>\n",
       "      <td>Individual</td>\n",
       "      <td>Manual</td>\n",
       "      <td>2</td>\n",
       "      <td>21.14</td>\n",
       "      <td>1498.0</td>\n",
       "      <td>103.52</td>\n",
       "      <td>5.0</td>\n",
       "    </tr>\n",
       "    <tr>\n",
       "      <th>2</th>\n",
       "      <td>Honda</td>\n",
       "      <td>2006</td>\n",
       "      <td>158000</td>\n",
       "      <td>140000</td>\n",
       "      <td>Petrol</td>\n",
       "      <td>Individual</td>\n",
       "      <td>Manual</td>\n",
       "      <td>3</td>\n",
       "      <td>17.70</td>\n",
       "      <td>1497.0</td>\n",
       "      <td>78.00</td>\n",
       "      <td>5.0</td>\n",
       "    </tr>\n",
       "    <tr>\n",
       "      <th>3</th>\n",
       "      <td>Hyundai</td>\n",
       "      <td>2010</td>\n",
       "      <td>225000</td>\n",
       "      <td>127000</td>\n",
       "      <td>Diesel</td>\n",
       "      <td>Individual</td>\n",
       "      <td>Manual</td>\n",
       "      <td>1</td>\n",
       "      <td>23.00</td>\n",
       "      <td>1396.0</td>\n",
       "      <td>90.00</td>\n",
       "      <td>5.0</td>\n",
       "    </tr>\n",
       "    <tr>\n",
       "      <th>4</th>\n",
       "      <td>Maruti</td>\n",
       "      <td>2007</td>\n",
       "      <td>130000</td>\n",
       "      <td>120000</td>\n",
       "      <td>Petrol</td>\n",
       "      <td>Individual</td>\n",
       "      <td>Manual</td>\n",
       "      <td>1</td>\n",
       "      <td>16.10</td>\n",
       "      <td>1298.0</td>\n",
       "      <td>88.20</td>\n",
       "      <td>5.0</td>\n",
       "    </tr>\n",
       "  </tbody>\n",
       "</table>\n",
       "</div>"
      ],
      "text/plain": [
       "     brand  year  selling_price  km_driven    fuel seller_type transmission  \\\n",
       "0   Maruti  2014         450000     145500  Diesel  Individual       Manual   \n",
       "1    Skoda  2014         370000     120000  Diesel  Individual       Manual   \n",
       "2    Honda  2006         158000     140000  Petrol  Individual       Manual   \n",
       "3  Hyundai  2010         225000     127000  Diesel  Individual       Manual   \n",
       "4   Maruti  2007         130000     120000  Petrol  Individual       Manual   \n",
       "\n",
       "   owner  mileage  engine  max_power  seats  \n",
       "0      1    23.40  1248.0      74.00    5.0  \n",
       "1      2    21.14  1498.0     103.52    5.0  \n",
       "2      3    17.70  1497.0      78.00    5.0  \n",
       "3      1    23.00  1396.0      90.00    5.0  \n",
       "4      1    16.10  1298.0      88.20    5.0  "
      ]
     },
     "execution_count": 39,
     "metadata": {},
     "output_type": "execute_result"
    }
   ],
   "source": [
    "selected_columns = ['brand', 'year', 'selling_price', 'km_driven', 'fuel', 'seller_type', 'transmission', 'owner_num', 'mileage_num', 'engine_num', 'max_power_num', 'seats']\n",
    "#selected df with remaned columns only\n",
    "sdf = df[selected_columns].rename(columns={\n",
    "    'owner_num': 'owner',\n",
    "    'mileage_num': 'mileage',\n",
    "    'engine_num': 'engine',\n",
    "    'max_power_num': 'max_power'\n",
    "})\n",
    "sdf.head()"
   ]
  },
  {
   "cell_type": "code",
   "execution_count": 40,
   "id": "b4000ae4",
   "metadata": {},
   "outputs": [
    {
     "data": {
      "text/plain": [
       "(7814, 12)"
      ]
     },
     "execution_count": 40,
     "metadata": {},
     "output_type": "execute_result"
    }
   ],
   "source": [
    "# expected rows after removing null values = 8028 - 214 = 7814\n",
    "sdf.shape"
   ]
  },
  {
   "cell_type": "markdown",
   "id": "2b773554",
   "metadata": {},
   "source": [
    "# 5. Feature Selection (EDA continued)\n",
    "\n",
    "Finding relationship of Xs with selling_price (here with log value of selling price)\n",
    "1. **km_driven vs selling_price:** \n",
    "2. **year vs selling_price:** \n",
    "3. **engine vs selling_price:** \n",
    "4. **max_power vs selling_price:** "
   ]
  },
  {
   "cell_type": "code",
   "execution_count": 41,
   "id": "82179e6c",
   "metadata": {},
   "outputs": [
    {
     "data": {
      "text/plain": [
       "<Axes: xlabel='year', ylabel='selling_price'>"
      ]
     },
     "execution_count": 41,
     "metadata": {},
     "output_type": "execute_result"
    },
    {
     "data": {
      "image/png": "[encoded data removed]",
      "text/plain": [
       "<Figure size 640x480 with 1 Axes>"
      ]
     },
     "metadata": {},
     "output_type": "display_data"
    }
   ],
   "source": [
    "# Visualizing the relationship between features and target variable\n",
    "# All features = ['brand', 'year', 'km_driven', 'fuel', 'seller_type', 'transmission', 'owner', 'mileage', 'engine', 'max_power', 'seats']\n",
    "# numerical_features = ['year', 'km_driven', 'mileage', 'engine', 'max_power', 'seats']\n",
    "selected_feature = 'year'\n",
    "target_variable = 'selling_price'\n",
    "sns.scatterplot(\n",
    "        x=selected_feature,\n",
    "        y=target_variable,\n",
    "        data=sdf,\n",
    "        alpha=0.6\n",
    "    )\n",
    "sns.regplot(\n",
    "        x=selected_feature,\n",
    "        y=target_variable,\n",
    "        data=sdf,\n",
    "        scatter=False,\n",
    "        line_kws={\"color\": \"red\"}\n",
    "    )\n",
    "# Result is linear relationship"
   ]
  },
  {
   "cell_type": "code",
   "execution_count": 42,
   "id": "b1284280",
   "metadata": {},
   "outputs": [
    {
     "data": {
      "text/plain": [
       "<Axes: xlabel='km_driven', ylabel='selling_price'>"
      ]
     },
     "execution_count": 42,
     "metadata": {},
     "output_type": "execute_result"
    },
    {
     "data": {
      "image/png": "[encoded data removed]",
      "text/plain": [
       "<Figure size 640x480 with 1 Axes>"
      ]
     },
     "metadata": {},
     "output_type": "display_data"
    }
   ],
   "source": [
    "# All features = ['brand', 'year', 'km_driven', 'fuel', 'seller_type', 'transmission', 'owner', 'mileage', 'engine', 'max_power', 'seats']\n",
    "# numerical_features = ['year', 'km_driven', 'mileage', 'engine', 'max_power', 'seats']\n",
    "selected_feature = 'km_driven'\n",
    "target_variable = 'selling_price'\n",
    "sns.scatterplot(\n",
    "        x=selected_feature,\n",
    "        y=target_variable,\n",
    "        data=sdf,\n",
    "        alpha=0.6\n",
    "    )\n",
    "sns.regplot(\n",
    "        x=selected_feature,\n",
    "        y=target_variable,\n",
    "        data=sdf,\n",
    "        scatter=False,\n",
    "        line_kws={\"color\": \"red\"}\n",
    "    )\n",
    "\n",
    "# Result is negative linear relationship, higher the km_driven, lower the selling_price"
   ]
  },
  {
   "cell_type": "code",
   "execution_count": 43,
   "id": "566121ad",
   "metadata": {},
   "outputs": [
    {
     "data": {
      "text/plain": [
       "<Axes: xlabel='mileage', ylabel='selling_price'>"
      ]
     },
     "execution_count": 43,
     "metadata": {},
     "output_type": "execute_result"
    },
    {
     "data": {
      "image/png": "[encoded data removed]",
      "text/plain": [
       "<Figure size 640x480 with 1 Axes>"
      ]
     },
     "metadata": {},
     "output_type": "display_data"
    }
   ],
   "source": [
    "# All features = ['brand', 'year', 'km_driven', 'fuel', 'seller_type', 'transmission', 'owner', 'mileage', 'engine', 'max_power', 'seats']\n",
    "# numerical_features = ['year', 'km_driven', 'mileage', 'engine', 'max_power', 'seats']\n",
    "selected_feature = 'mileage'\n",
    "target_variable = 'selling_price'\n",
    "sns.scatterplot(\n",
    "        x=selected_feature,\n",
    "        y=target_variable,\n",
    "        data=sdf,\n",
    "        alpha=0.6,\n",
    "        hue='fuel',\n",
    "        style='transmission',\n",
    "        markers=['o', 's']\n",
    "    )\n",
    "sns.regplot(\n",
    "        x=selected_feature,\n",
    "        y=target_variable,\n",
    "        data=sdf,\n",
    "        scatter=False,\n",
    "        line_kws={\"color\": \"red\"}\n",
    "    )\n"
   ]
  },
  {
   "cell_type": "markdown",
   "id": "8e85fd31",
   "metadata": {},
   "source": [
    "### Observations:\n",
    "1. As the kilometres driven increases, the selling price tends to decrease, showing a negative correlation between these variables.\n",
    "2. The variance in price is not constant across different kilometre values - there's more price variability among lower-kilometre cars than higher-kilometre cars.\n",
    "3. There appears to be some clustering of data points, particularly in the lower kilometre ranges, suggesting price is affected by other factors such as brand, model, and year of manufacture.\n",
    "4. There are some outliers visible - particularly some high-priced cars despite relatively high kilometre readings, which might represent luxury or collector vehicles."
   ]
  },
  {
   "cell_type": "code",
   "execution_count": 44,
   "id": "9be4cc83",
   "metadata": {},
   "outputs": [],
   "source": [
    "# label encoder for non numeric values\n",
    "# All features = ['brand', 'year', 'km_driven', 'fuel', 'seller_type', 'transmission', 'owner', 'mileage', 'engine', 'max_power', 'seats']\n",
    "from sklearn.preprocessing import LabelEncoder\n",
    "\n",
    "non_numeric_cols = ['brand', 'fuel', 'seller_type', 'transmission']\n",
    "le = LabelEncoder()\n",
    "for col in non_numeric_cols:\n",
    "    sdf[col] = le.fit_transform(sdf[col])  \n"
   ]
  },
  {
   "cell_type": "code",
   "execution_count": 45,
   "id": "b24102eb",
   "metadata": {},
   "outputs": [
    {
     "data": {
      "text/plain": [
       "<Axes: >"
      ]
     },
     "execution_count": 45,
     "metadata": {},
     "output_type": "execute_result"
    },
    {
     "data": {
      "image/png": "[encoded data removed]",
      "text/plain": [
       "<Figure size 1500x800 with 2 Axes>"
      ]
     },
     "metadata": {},
     "output_type": "display_data"
    }
   ],
   "source": [
    "# Check heatmap\n",
    "plt.figure(figsize = (15,8))\n",
    "sns.heatmap(sdf.corr(), annot=True, cmap=\"coolwarm\")\n"
   ]
  },
  {
   "cell_type": "markdown",
   "id": "42ddad22",
   "metadata": {},
   "source": [
    "Heatmap infers that selling_price (following log_price) has strong corellation with features **max_power, year and engine** in descending order\n"
   ]
  },
  {
   "cell_type": "code",
   "execution_count": 46,
   "id": "f808088e",
   "metadata": {},
   "outputs": [
    {
     "data": {
      "application/vnd.microsoft.datawrangler.viewer.v0+json": {
       "columns": [
        {
         "name": "index",
         "rawType": "int64",
         "type": "integer"
        },
        {
         "name": "selling_price",
         "rawType": "float64",
         "type": "float"
        }
       ],
       "ref": "22f384a0-34ac-434c-81b1-866cfc032cb4",
       "rows": [
        [
         "0",
         "13.017002861746503"
        ],
        [
         "1",
         "12.821258284620408"
        ],
        [
         "2",
         "11.970350312009105"
        ],
        [
         "3",
         "12.323855681186558"
        ],
        [
         "4",
         "11.77528972943772"
        ]
       ],
       "shape": {
        "columns": 1,
        "rows": 5
       }
      },
      "text/plain": [
       "0    13.017003\n",
       "1    12.821258\n",
       "2    11.970350\n",
       "3    12.323856\n",
       "4    11.775290\n",
       "Name: selling_price, dtype: float64"
      ]
     },
     "execution_count": 46,
     "metadata": {},
     "output_type": "execute_result"
    }
   ],
   "source": [
    "# Feature Selection:\n",
    "# Target or y or dependent variable or label\n",
    "y = sdf[\"selling_price\"]\n",
    "# Perform log scaling to speed up model training\n",
    "y = np.log(sdf['selling_price'])\n",
    "# Independent variables, or X or features or predictors or explanatory variables\n",
    "X = sdf[['max_power', 'year', 'engine']]\n",
    "\n",
    "y.head()"
   ]
  },
  {
   "cell_type": "code",
   "execution_count": 47,
   "id": "a163a984",
   "metadata": {},
   "outputs": [
    {
     "data": {
      "application/vnd.microsoft.datawrangler.viewer.v0+json": {
       "columns": [
        {
         "name": "index",
         "rawType": "object",
         "type": "string"
        },
        {
         "name": "0",
         "rawType": "int64",
         "type": "integer"
        }
       ],
       "ref": "beb82ee1-e885-4bd5-a2fd-eb9047786121",
       "rows": [
        [
         "max_power",
         "0"
        ],
        [
         "year",
         "0"
        ],
        [
         "engine",
         "0"
        ]
       ],
       "shape": {
        "columns": 1,
        "rows": 3
       }
      },
      "text/plain": [
       "max_power    0\n",
       "year         0\n",
       "engine       0\n",
       "dtype: int64"
      ]
     },
     "execution_count": 47,
     "metadata": {},
     "output_type": "execute_result"
    }
   ],
   "source": [
    "from sklearn.model_selection import train_test_split\n",
    "# Split the data into training and testing sets in a 70-30 ratio\n",
    "X_train, X_test, y_train, y_test = train_test_split(X, y, test_size=0.3, random_state=42)\n",
    "X_train.isna().sum()\n",
    "X_train.isna().sum()"
   ]
  },
  {
   "cell_type": "markdown",
   "id": "47de440f",
   "metadata": {},
   "source": [
    "# 6. Model Selection - Linear Regresssion\n",
    " During inference/testing, you have to transform your predicted y backed before comparing with y\n",
    "test, i.e.,"
   ]
  },
  {
   "cell_type": "code",
   "execution_count": 48,
   "id": "a130254b",
   "metadata": {},
   "outputs": [
    {
     "data": {
      "text/plain": [
       "(7814, 5469, 2344)"
      ]
     },
     "execution_count": 48,
     "metadata": {},
     "output_type": "execute_result"
    }
   ],
   "source": [
    "n = len(sdf)\n",
    "n_test = int(0.3 * n)  # 30% for validation\n",
    "n_train = int(0.7 * n)  # 70% for test\n",
    "n, n_train, n_test"
   ]
  },
  {
   "cell_type": "code",
   "execution_count": 49,
   "id": "ccc5c473",
   "metadata": {},
   "outputs": [],
   "source": [
    "#importing all the regression models\n",
    "from sklearn.linear_model import LinearRegression \n",
    "from sklearn.svm import SVR\n",
    "from sklearn.neighbors import KNeighborsRegressor\n",
    "from sklearn.tree import DecisionTreeRegressor\n",
    "from sklearn.ensemble import RandomForestRegressor\n",
    "\n",
    "#our models and their names in the two lists respectively\n",
    "algorithms = [LinearRegression(), SVR(), KNeighborsRegressor(), DecisionTreeRegressor(random_state = 0), \n",
    "              RandomForestRegressor(n_estimators = 100, random_state = 0)]\n",
    "\n",
    "algorithm_names = [\"Linear Regression\", \"SVR\", \"KNeighbors Regressor\", \"Decision-Tree Regressor\", \"Random-Forest Regressor\"]"
   ]
  },
  {
   "cell_type": "code",
   "execution_count": 50,
   "id": "7cb14990",
   "metadata": {},
   "outputs": [
    {
     "name": "stdout",
     "output_type": "stream",
     "text": [
      "Linear Regression         - Score: [-0.1048991  -0.10021546 -0.10053799 -0.10598645 -0.09503229]; Neg Mean: -0.10133425794437581\n",
      "SVR                       - Score: [-0.29668243 -0.30229022 -0.32376576 -0.29954867 -0.28791046]; Neg Mean: -0.30203950875551\n",
      "KNeighbors Regressor      - Score: [-0.06245044 -0.07590815 -0.06029745 -0.0539981  -0.06374458]; Neg Mean: -0.06327974795122522\n",
      "Decision-Tree Regressor   - Score: [-0.06439665 -0.05924448 -0.06895573 -0.05927305 -0.06320257]; Neg Mean: -0.06301449628594856\n",
      "Random-Forest Regressor   - Score: [-0.05019704 -0.0525521  -0.04977975 -0.05506551 -0.05117021]; Neg Mean: -0.05175292156295771\n"
     ]
    }
   ],
   "source": [
    "from sklearn.model_selection import KFold, cross_val_score\n",
    "from sklearn.metrics import mean_squared_error, r2_score\n",
    "\n",
    "train_mse = []\n",
    "test_mse = []\n",
    "\n",
    "# Use KFold and split into 5 subsets , and 1 will be used as validation set\n",
    "kfold = KFold(n_splits=5, shuffle=True)\n",
    "\n",
    "for i, model in enumerate(algorithms):\n",
    "    scores = cross_val_score(model, X_train, y_train, cv=kfold, scoring='neg_mean_squared_error')\n",
    "    print(f\"{algorithm_names[i]:<25} - Score: {scores}; Neg Mean: {scores.mean()}\")\n",
    "\n",
    "#since we are using NMSE, smaller number is better and thus the best model shown below is Random Forest Regression Model of = -0.00033 value "
   ]
  },
  {
   "cell_type": "code",
   "execution_count": 51,
   "id": "36337c4a",
   "metadata": {},
   "outputs": [],
   "source": [
    "#Find the best Random-Forest Regressor model\n",
    "\n",
    "from sklearn.model_selection import GridSearchCV\n",
    "\n",
    "param_grid = {'bootstrap': [True], 'max_depth': [5, 10, None],\n",
    "              'n_estimators': [5, 6, 7, 8, 9, 10, 11, 12, 13, 15]}\n",
    "\n",
    "rf = RandomForestRegressor(random_state = 42)\n",
    "\n",
    "grid = GridSearchCV(estimator = rf, \n",
    "                    param_grid = param_grid, \n",
    "                    cv = kfold, \n",
    "                    n_jobs = -1, \n",
    "                    return_train_score=True, \n",
    "                    refit=True,\n",
    "                    scoring='neg_mean_squared_error')\n",
    "\n",
    "# Fit your grid_search\n",
    "grid.fit(X_train, y_train);  #fit means start looping all the possible parameters"
   ]
  },
  {
   "cell_type": "code",
   "execution_count": 52,
   "id": "9d228949",
   "metadata": {},
   "outputs": [
    {
     "name": "stdout",
     "output_type": "stream",
     "text": [
      "The best NMSE that we can get with Random Forest is: -0.054048885337113994\n"
     ]
    }
   ],
   "source": [
    "# Use the best model to predict on test set\n",
    "grid.best_params_\n",
    "best_mse = grid.best_score_\n",
    "print(\"The best NMSE that we can get with Random Forest is:\", best_mse)\n"
   ]
  },
  {
   "cell_type": "markdown",
   "id": "e3962de4",
   "metadata": {},
   "source": [
    "# 7. Testing"
   ]
  },
  {
   "cell_type": "code",
   "execution_count": 53,
   "id": "0dc5ce57",
   "metadata": {},
   "outputs": [
    {
     "name": "stdout",
     "output_type": "stream",
     "text": [
      "Thus, our model's NMSE score when applied on the test dataset is: 0.04743760535810782\n"
     ]
    }
   ],
   "source": [
    "yhat = grid.predict(X_test)\n",
    "print(\"Thus, our model's NMSE score when applied on the test dataset is:\", mean_squared_error(y_test, yhat))"
   ]
  },
  {
   "cell_type": "markdown",
   "id": "767da7db",
   "metadata": {},
   "source": [
    "# 8. Analysis"
   ]
  },
  {
   "cell_type": "code",
   "execution_count": 54,
   "id": "382fe72c",
   "metadata": {},
   "outputs": [
    {
     "data": {
      "text/plain": [
       "array([0.49367643, 0.39721194, 0.10911164])"
      ]
     },
     "execution_count": 54,
     "metadata": {},
     "output_type": "execute_result"
    }
   ],
   "source": [
    "#in ML some algorithms give better feature importance after the model is fitted which is in best_estimator_\n",
    "rf = grid.best_estimator_\n",
    "rf.feature_importances_"
   ]
  },
  {
   "cell_type": "code",
   "execution_count": 55,
   "id": "0d032a81",
   "metadata": {},
   "outputs": [
    {
     "data": {
      "text/plain": [
       "<BarContainer object of 3 artists>"
      ]
     },
     "execution_count": 55,
     "metadata": {},
     "output_type": "execute_result"
    },
    {
     "data": {
      "image/png": "[encoded data removed]",
      "text/plain": [
       "<Figure size 640x480 with 1 Axes>"
      ]
     },
     "metadata": {},
     "output_type": "display_data"
    }
   ],
   "source": [
    "#plotting the weight in graph\n",
    "plt.barh(X.columns, rf.feature_importances_)"
   ]
  },
  {
   "cell_type": "code",
   "execution_count": 56,
   "id": "5909f2de",
   "metadata": {},
   "outputs": [
    {
     "data": {
      "text/plain": [
       "Text(0.5, 0, 'Random Forest Feature Importance')"
      ]
     },
     "execution_count": 56,
     "metadata": {},
     "output_type": "execute_result"
    },
    {
     "data": {
      "image/png": "[encoded data removed]",
      "text/plain": [
       "<Figure size 640x480 with 1 Axes>"
      ]
     },
     "metadata": {},
     "output_type": "display_data"
    }
   ],
   "source": [
    "#sorting them for better view in ascending order of y-axis\n",
    "sorted_idx = rf.feature_importances_.argsort()\n",
    "plt.barh(X.columns[sorted_idx], rf.feature_importances_[sorted_idx])\n",
    "plt.xlabel(\"Random Forest Feature Importance\")"
   ]
  },
  {
   "cell_type": "code",
   "execution_count": 57,
   "id": "7ca0f1b2",
   "metadata": {},
   "outputs": [
    {
     "data": {
      "text/plain": [
       "Text(0.5, 0, 'Random Forest Feature Importance')"
      ]
     },
     "execution_count": 57,
     "metadata": {},
     "output_type": "execute_result"
    },
    {
     "data": {
      "image/png": "[encoded data removed]",
      "text/plain": [
       "<Figure size 640x480 with 1 Axes>"
      ]
     },
     "metadata": {},
     "output_type": "display_data"
    }
   ],
   "source": [
    "# Finding out which features impact the model the most via permutation way\n",
    "\n",
    "from sklearn.inspection import permutation_importance\n",
    "\n",
    "perm_importance = permutation_importance(rf, X_test, y_test)\n",
    "\n",
    "sorted_idx = perm_importance.importances_mean.argsort()\n",
    "plt.barh(X.columns[sorted_idx], perm_importance.importances_mean[sorted_idx])\n",
    "plt.xlabel(\"Random Forest Feature Importance\")"
   ]
  },
  {
   "cell_type": "code",
   "execution_count": 58,
   "id": "cb3ece09",
   "metadata": {},
   "outputs": [],
   "source": [
    "# Utilizing shap method this way around\n",
    "import shap\n",
    "\n",
    "explainer = shap.TreeExplainer(rf)\n",
    "shap_values = explainer.shap_values(X_test)"
   ]
  },
  {
   "cell_type": "code",
   "execution_count": 59,
   "id": "bd2cb860",
   "metadata": {},
   "outputs": [
    {
     "data": {
      "image/png": "[encoded data removed]",
      "text/plain": [
       "<Figure size 800x270 with 1 Axes>"
      ]
     },
     "metadata": {},
     "output_type": "display_data"
    }
   ],
   "source": [
    "shap.summary_plot(shap_values, X_test, plot_type=\"bar\", feature_names = X.columns)"
   ]
  },
  {
   "cell_type": "markdown",
   "id": "31a1220d",
   "metadata": {},
   "source": [
    "Max_power has highest correlation with selling_price previously, however year has highest correlation score of ~0.030. The ordering has been changed as\n",
    "year (~0.032), max_power (~0.023) and engine (~0.01)"
   ]
  },
  {
   "cell_type": "markdown",
   "id": "138b13de",
   "metadata": {},
   "source": [
    "# 9. Inference"
   ]
  },
  {
   "cell_type": "code",
   "execution_count": 60,
   "id": "789a8d2e",
   "metadata": {},
   "outputs": [],
   "source": [
    "#saving model to folder before using it for inference for later use\n",
    "import pickle\n",
    "\n",
    "filename = '../models/a1_predict_car_price.model'\n",
    "pickle.dump(grid, open(filename, 'wb'))"
   ]
  },
  {
   "cell_type": "code",
   "execution_count": 61,
   "id": "a7527597",
   "metadata": {},
   "outputs": [],
   "source": [
    "# load the model from disk\n",
    "loaded_model = pickle.load(open(filename, 'rb'))"
   ]
  },
  {
   "cell_type": "code",
   "execution_count": 62,
   "id": "42130b8e",
   "metadata": {},
   "outputs": [
    {
     "data": {
      "application/vnd.microsoft.datawrangler.viewer.v0+json": {
       "columns": [
        {
         "name": "index",
         "rawType": "object",
         "type": "string"
        },
        {
         "name": "1",
         "rawType": "float64",
         "type": "float"
        }
       ],
       "ref": "73504c3b-1007-47ce-8754-e8d897e7013c",
       "rows": [
        [
         "max_power",
         "103.52"
        ],
        [
         "year",
         "2014.0"
        ],
        [
         "engine",
         "1498.0"
        ],
        [
         "selling_price",
         "370000.0"
        ]
       ],
       "shape": {
        "columns": 1,
        "rows": 4
       }
      },
      "text/plain": [
       "max_power           103.52\n",
       "year               2014.00\n",
       "engine             1498.00\n",
       "selling_price    370000.00\n",
       "Name: 1, dtype: float64"
      ]
     },
     "execution_count": 62,
     "metadata": {},
     "output_type": "execute_result"
    }
   ],
   "source": [
    "#Take one sample\n",
    "sdf[['max_power', 'year', 'engine', 'selling_price']].loc[1]"
   ]
  },
  {
   "cell_type": "code",
   "execution_count": 63,
   "id": "5766ed95",
   "metadata": {},
   "outputs": [],
   "source": [
    "sample = np.array([[103.52, 2014.0, 1498.00]])"
   ]
  },
  {
   "cell_type": "code",
   "execution_count": 64,
   "id": "053eec09",
   "metadata": {},
   "outputs": [
    {
     "name": "stdout",
     "output_type": "stream",
     "text": [
      "[13.0345791]\n",
      "The predicted selling price of the inputed sample car is:  [457979.22463175]\n",
      "The actual selling price of the car in question is:  370000\n"
     ]
    }
   ],
   "source": [
    "pred_y = loaded_model.predict(sample)\n",
    "print(pred_y)\n",
    "pred_y = np.exp(pred_y)  #reverting the logarithmic scaling\n",
    "print(\"The predicted selling price of the inputed sample car is: \", pred_y)\n",
    "print(\"The actual selling price of the car in question is: \", sdf['selling_price'].loc[1])"
   ]
  },
  {
   "cell_type": "markdown",
   "id": "fbb275ae",
   "metadata": {},
   "source": [
    "# Task 2. Report  \n",
    "In the end of the notebook, please write a 2-3 paragraphs summary deeply discussing and analysing the results. \n",
    " Possible points of discussion: <br>\n",
    " **• Which features are important? Which are not? Why?** <br>\n",
    "\n",
    "Based on the analysis, the most important features for predicting car prices are year, max_power, and engine. This is supported by both correlation analysis and feature importance scores from the Random Forest model and permutation importance.\n",
    "\n",
    "- Year is the strongest predictor, likely because newer cars tend to have higher prices.\n",
    "- Max_power and engine size also contribute significantly, as they reflect the car’s performance and specifications.\n",
    "- Other features like brand, fuel type, and owner are less important in this model, possibly because their effects are either captured indirectly by the main features or have less direct impact on price.\n",
    "\n",
    "\n",
    "**• Which algorithm performs well? Which does not? Why? (here, you haven’t learned about any algorithms yet, but you can search online a bit and start building an intuition)** <br>\n",
    "\n",
    "Among the tested algorithms, Random Forest Regressor performed best, achieving the lowest negative mean squared error (NMSE) in cross-validation. <br>\n",
    "\n",
    "Random Forest works well because it can capture non-linear relationships and interactions between features.\n",
    "Simpler models like Linear Regression may not perform as well due to the complex nature of car price prediction.\n",
    "Algorithms like SVR, KNeighbors, and Decision Tree were also tested, but Random Forest’s ensemble approach provided better generalization and accuracy. <br>\n"
   ]
  }
 ],
 "metadata": {
  "kernelspec": {
   "display_name": "classroom (3.13.7)",
   "language": "python",
   "name": "python3"
  },
  "language_info": {
   "codemirror_mode": {
    "name": "ipython",
    "version": 3
   },
   "file_extension": ".py",
   "mimetype": "text/x-python",
   "name": "python",
   "nbconvert_exporter": "python",
   "pygments_lexer": "ipython3",
   "version": "3.13.7"
  }
 },
 "nbformat": 4,
 "nbformat_minor": 5
}
